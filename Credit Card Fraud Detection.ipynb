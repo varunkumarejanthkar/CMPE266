{
 "cells": [
  {
   "cell_type": "markdown",
   "metadata": {
    "id": "q2a4Kq_8SOPu"
   },
   "source": [
    "# Import lib"
   ]
  },
  {
   "cell_type": "code",
   "execution_count": 1,
   "metadata": {
    "executionInfo": {
     "elapsed": 2114,
     "status": "ok",
     "timestamp": 1651103924607,
     "user": {
      "displayName": "Urja Mitulkumar Naik",
      "userId": "04396446318838917799"
     },
     "user_tz": 420
    },
    "id": "R_b-kl9aSOPx"
   },
   "outputs": [],
   "source": [
    "#from cassandra.cluster import Cluster\n",
    "import pandas as pd\n",
    "import numpy as np\n",
    "import matplotlib.pyplot as plt\n",
    "import seaborn as sns\n",
    "import os\n",
    "from sklearn.preprocessing import LabelEncoder\n",
    "from sklearn.model_selection import train_test_split, cross_val_score, GridSearchCV, ShuffleSplit\n",
    "from sklearn.metrics import *\n",
    "%matplotlib inline"
   ]
  },
  {
   "cell_type": "code",
   "execution_count": null,
   "metadata": {
    "id": "gaWqACPNb4lF"
   },
   "outputs": [],
   "source": []
  },
  {
   "cell_type": "code",
   "execution_count": 5,
   "metadata": {
    "colab": {
     "base_uri": "https://localhost:8080/"
    },
    "executionInfo": {
     "elapsed": 4366,
     "status": "ok",
     "timestamp": 1651103922500,
     "user": {
      "displayName": "Urja Mitulkumar Naik",
      "userId": "04396446318838917799"
     },
     "user_tz": 420
    },
    "id": "0M79KoLHbkkC",
    "outputId": "0c865f26-6b37-4df7-a697-24ca7a1b6a3b"
   },
   "outputs": [
    {
     "name": "stdout",
     "output_type": "stream",
     "text": [
      "Requirement already satisfied: cassandra-driver in /usr/local/lib/python3.7/dist-packages (3.25.0)\n",
      "Requirement already satisfied: six>=1.9 in /usr/local/lib/python3.7/dist-packages (from cassandra-driver) (1.15.0)\n",
      "Requirement already satisfied: geomet<0.3,>=0.1 in /usr/local/lib/python3.7/dist-packages (from cassandra-driver) (0.2.1.post1)\n",
      "Requirement already satisfied: click in /usr/local/lib/python3.7/dist-packages (from geomet<0.3,>=0.1->cassandra-driver) (7.1.2)\n"
     ]
    }
   ],
   "source": [
    "pip install cassandra-driver"
   ]
  },
  {
   "cell_type": "code",
   "execution_count": 2,
   "metadata": {
    "id": "-MCkEGLqSOPy"
   },
   "outputs": [],
   "source": [
    "from sklearn.feature_selection import RFE, RFECV\n",
    "from sklearn.utils import resample"
   ]
  },
  {
   "cell_type": "code",
   "execution_count": null,
   "metadata": {
    "id": "5VNSDZ-USOP1"
   },
   "outputs": [],
   "source": [
    "data = pd.read_csv(\"card_transaction_v1.csv\");"
   ]
  },
  {
   "cell_type": "code",
   "execution_count": null,
   "metadata": {
    "id": "ZUTwzPSoSOP1",
    "outputId": "62f407db-fbbc-4f41-adc3-464d619c3033"
   },
   "outputs": [
    {
     "data": {
      "text/html": [
       "<div>\n",
       "<style scoped>\n",
       "    .dataframe tbody tr th:only-of-type {\n",
       "        vertical-align: middle;\n",
       "    }\n",
       "\n",
       "    .dataframe tbody tr th {\n",
       "        vertical-align: top;\n",
       "    }\n",
       "\n",
       "    .dataframe thead th {\n",
       "        text-align: right;\n",
       "    }\n",
       "</style>\n",
       "<table border=\"1\" class=\"dataframe\">\n",
       "  <thead>\n",
       "    <tr style=\"text-align: right;\">\n",
       "      <th></th>\n",
       "      <th>User</th>\n",
       "      <th>Card</th>\n",
       "      <th>Year</th>\n",
       "      <th>Month</th>\n",
       "      <th>Day</th>\n",
       "      <th>Time</th>\n",
       "      <th>Amount</th>\n",
       "      <th>Use Chip</th>\n",
       "      <th>Merchant Name</th>\n",
       "      <th>Merchant City</th>\n",
       "      <th>Merchant State</th>\n",
       "      <th>Zip</th>\n",
       "      <th>MCC</th>\n",
       "      <th>Errors?</th>\n",
       "      <th>Is Fraud?</th>\n",
       "    </tr>\n",
       "  </thead>\n",
       "  <tbody>\n",
       "    <tr>\n",
       "      <th>0</th>\n",
       "      <td>0</td>\n",
       "      <td>0</td>\n",
       "      <td>2002</td>\n",
       "      <td>9</td>\n",
       "      <td>1</td>\n",
       "      <td>06:21</td>\n",
       "      <td>$134.09</td>\n",
       "      <td>Swipe Transaction</td>\n",
       "      <td>3527213246127876953</td>\n",
       "      <td>La Verne</td>\n",
       "      <td>CA</td>\n",
       "      <td>91750.0</td>\n",
       "      <td>5300</td>\n",
       "      <td>NaN</td>\n",
       "      <td>No</td>\n",
       "    </tr>\n",
       "    <tr>\n",
       "      <th>1</th>\n",
       "      <td>0</td>\n",
       "      <td>0</td>\n",
       "      <td>2002</td>\n",
       "      <td>9</td>\n",
       "      <td>1</td>\n",
       "      <td>06:42</td>\n",
       "      <td>$38.48</td>\n",
       "      <td>Swipe Transaction</td>\n",
       "      <td>-727612092139916043</td>\n",
       "      <td>Monterey Park</td>\n",
       "      <td>CA</td>\n",
       "      <td>91754.0</td>\n",
       "      <td>5411</td>\n",
       "      <td>NaN</td>\n",
       "      <td>No</td>\n",
       "    </tr>\n",
       "    <tr>\n",
       "      <th>2</th>\n",
       "      <td>0</td>\n",
       "      <td>0</td>\n",
       "      <td>2002</td>\n",
       "      <td>9</td>\n",
       "      <td>2</td>\n",
       "      <td>06:22</td>\n",
       "      <td>$120.34</td>\n",
       "      <td>Swipe Transaction</td>\n",
       "      <td>-727612092139916043</td>\n",
       "      <td>Monterey Park</td>\n",
       "      <td>CA</td>\n",
       "      <td>91754.0</td>\n",
       "      <td>5411</td>\n",
       "      <td>NaN</td>\n",
       "      <td>No</td>\n",
       "    </tr>\n",
       "    <tr>\n",
       "      <th>3</th>\n",
       "      <td>0</td>\n",
       "      <td>0</td>\n",
       "      <td>2002</td>\n",
       "      <td>9</td>\n",
       "      <td>2</td>\n",
       "      <td>17:45</td>\n",
       "      <td>$128.95</td>\n",
       "      <td>Swipe Transaction</td>\n",
       "      <td>3414527459579106770</td>\n",
       "      <td>Monterey Park</td>\n",
       "      <td>CA</td>\n",
       "      <td>91754.0</td>\n",
       "      <td>5651</td>\n",
       "      <td>NaN</td>\n",
       "      <td>No</td>\n",
       "    </tr>\n",
       "    <tr>\n",
       "      <th>4</th>\n",
       "      <td>0</td>\n",
       "      <td>0</td>\n",
       "      <td>2002</td>\n",
       "      <td>9</td>\n",
       "      <td>3</td>\n",
       "      <td>06:23</td>\n",
       "      <td>$104.71</td>\n",
       "      <td>Swipe Transaction</td>\n",
       "      <td>5817218446178736267</td>\n",
       "      <td>La Verne</td>\n",
       "      <td>CA</td>\n",
       "      <td>91750.0</td>\n",
       "      <td>5912</td>\n",
       "      <td>NaN</td>\n",
       "      <td>No</td>\n",
       "    </tr>\n",
       "  </tbody>\n",
       "</table>\n",
       "</div>"
      ],
      "text/plain": [
       "   User  Card  Year  Month  Day   Time   Amount           Use Chip  \\\n",
       "0     0     0  2002      9    1  06:21  $134.09  Swipe Transaction   \n",
       "1     0     0  2002      9    1  06:42   $38.48  Swipe Transaction   \n",
       "2     0     0  2002      9    2  06:22  $120.34  Swipe Transaction   \n",
       "3     0     0  2002      9    2  17:45  $128.95  Swipe Transaction   \n",
       "4     0     0  2002      9    3  06:23  $104.71  Swipe Transaction   \n",
       "\n",
       "         Merchant Name  Merchant City Merchant State      Zip   MCC Errors?  \\\n",
       "0  3527213246127876953       La Verne             CA  91750.0  5300     NaN   \n",
       "1  -727612092139916043  Monterey Park             CA  91754.0  5411     NaN   \n",
       "2  -727612092139916043  Monterey Park             CA  91754.0  5411     NaN   \n",
       "3  3414527459579106770  Monterey Park             CA  91754.0  5651     NaN   \n",
       "4  5817218446178736267       La Verne             CA  91750.0  5912     NaN   \n",
       "\n",
       "  Is Fraud?  \n",
       "0        No  \n",
       "1        No  \n",
       "2        No  \n",
       "3        No  \n",
       "4        No  "
      ]
     },
     "execution_count": 23,
     "metadata": {},
     "output_type": "execute_result"
    }
   ],
   "source": [
    "data.head()"
   ]
  },
  {
   "cell_type": "code",
   "execution_count": null,
   "metadata": {
    "id": "QpdM5GlJSOP1",
    "outputId": "807f0d44-0457-4ef1-fca1-af42e147608a"
   },
   "outputs": [
    {
     "data": {
      "text/plain": [
       "Index(['User', 'Card', 'Year', 'Month', 'Day', 'Time', 'Amount', 'Use Chip',\n",
       "       'Merchant Name', 'Merchant City', 'Merchant State', 'Zip', 'MCC',\n",
       "       'Errors?', 'Is Fraud?'],\n",
       "      dtype='object')"
      ]
     },
     "execution_count": 24,
     "metadata": {},
     "output_type": "execute_result"
    }
   ],
   "source": [
    "data.columns"
   ]
  },
  {
   "cell_type": "code",
   "execution_count": null,
   "metadata": {
    "id": "X7ftNJ4ZSOP1",
    "outputId": "1cf67ea6-71f2-4130-87dc-6d11bd2cb151"
   },
   "outputs": [
    {
     "data": {
      "text/plain": [
       "24386900"
      ]
     },
     "execution_count": 25,
     "metadata": {},
     "output_type": "execute_result"
    }
   ],
   "source": [
    "len(data)"
   ]
  },
  {
   "cell_type": "code",
   "execution_count": null,
   "metadata": {
    "id": "ry0xFlFFSOP2",
    "outputId": "a40e73d7-394a-4a30-805a-045d3aab067f"
   },
   "outputs": [
    {
     "data": {
      "text/plain": [
       "User                     0\n",
       "Card                     0\n",
       "Year                     0\n",
       "Month                    0\n",
       "Day                      0\n",
       "Time                     0\n",
       "Amount                   0\n",
       "Use Chip                 0\n",
       "Merchant Name            0\n",
       "Merchant City            0\n",
       "Merchant State     2720821\n",
       "Zip                2878135\n",
       "MCC                      0\n",
       "Errors?           23998469\n",
       "Is Fraud?                0\n",
       "dtype: int64"
      ]
     },
     "execution_count": 26,
     "metadata": {},
     "output_type": "execute_result"
    }
   ],
   "source": [
    "data.isna().sum()"
   ]
  },
  {
   "cell_type": "code",
   "execution_count": null,
   "metadata": {
    "id": "-vIyupkgSOP2",
    "outputId": "8f17c68e-1d8a-465a-d37c-5c9374b6df76"
   },
   "outputs": [
    {
     "data": {
      "text/plain": [
       "User              0.000000\n",
       "Card              0.000000\n",
       "Year              0.000000\n",
       "Month             0.000000\n",
       "Day               0.000000\n",
       "Time              0.000000\n",
       "Amount            0.000000\n",
       "Use Chip          0.000000\n",
       "Merchant Name     0.000000\n",
       "Merchant City     0.000000\n",
       "Merchant State    0.111569\n",
       "Zip               0.118020\n",
       "MCC               0.000000\n",
       "Errors?           0.984072\n",
       "Is Fraud?         0.000000\n",
       "dtype: float64"
      ]
     },
     "execution_count": 27,
     "metadata": {},
     "output_type": "execute_result"
    }
   ],
   "source": [
    "data.isna().mean()"
   ]
  },
  {
   "cell_type": "markdown",
   "metadata": {
    "id": "ts7XeJWySOP2"
   },
   "source": [
    "### Convert amount to numeric "
   ]
  },
  {
   "cell_type": "code",
   "execution_count": null,
   "metadata": {
    "id": "TRD06jznSOP2",
    "outputId": "86e07f75-c759-47d5-946d-28ecb674fb8c"
   },
   "outputs": [
    {
     "name": "stderr",
     "output_type": "stream",
     "text": [
      "<ipython-input-28-8e81dcaa021b>:1: FutureWarning: The default value of regex will change from True to False in a future version. In addition, single character regular expressions will*not* be treated as literal strings when regex=True.\n",
      "  data['Amount'] = data['Amount'].str.replace('$', '')\n"
     ]
    }
   ],
   "source": [
    "data['Amount'] = data['Amount'].str.replace('$', '')\n",
    "data['Amount'] = data['Amount'].astype(float)"
   ]
  },
  {
   "cell_type": "markdown",
   "metadata": {
    "id": "zAD9Kr6pSOP2"
   },
   "source": [
    "### Convert time (hr : minute) formate to only hour "
   ]
  },
  {
   "cell_type": "code",
   "execution_count": null,
   "metadata": {
    "id": "3wD7D9HUSOP2"
   },
   "outputs": [],
   "source": [
    "data['hour'] = data['Time'].str.split(':').str[0]"
   ]
  },
  {
   "cell_type": "code",
   "execution_count": null,
   "metadata": {
    "id": "eiH3xj48SOP2"
   },
   "outputs": [],
   "source": [
    "data['hour'] = data['hour'].astype(int)"
   ]
  },
  {
   "cell_type": "code",
   "execution_count": null,
   "metadata": {
    "id": "Y6tc4m64SOP3",
    "outputId": "ac5f7d6f-dd7b-4237-be8b-fff87c1bc3d3"
   },
   "outputs": [
    {
     "data": {
      "text/html": [
       "<div>\n",
       "<style scoped>\n",
       "    .dataframe tbody tr th:only-of-type {\n",
       "        vertical-align: middle;\n",
       "    }\n",
       "\n",
       "    .dataframe tbody tr th {\n",
       "        vertical-align: top;\n",
       "    }\n",
       "\n",
       "    .dataframe thead th {\n",
       "        text-align: right;\n",
       "    }\n",
       "</style>\n",
       "<table border=\"1\" class=\"dataframe\">\n",
       "  <thead>\n",
       "    <tr style=\"text-align: right;\">\n",
       "      <th></th>\n",
       "      <th>User</th>\n",
       "      <th>Card</th>\n",
       "      <th>Year</th>\n",
       "      <th>Month</th>\n",
       "      <th>Day</th>\n",
       "      <th>Time</th>\n",
       "      <th>Amount</th>\n",
       "      <th>Use Chip</th>\n",
       "      <th>Merchant Name</th>\n",
       "      <th>Merchant City</th>\n",
       "      <th>Merchant State</th>\n",
       "      <th>Zip</th>\n",
       "      <th>MCC</th>\n",
       "      <th>Errors?</th>\n",
       "      <th>Is Fraud?</th>\n",
       "      <th>hour</th>\n",
       "    </tr>\n",
       "  </thead>\n",
       "  <tbody>\n",
       "    <tr>\n",
       "      <th>0</th>\n",
       "      <td>0</td>\n",
       "      <td>0</td>\n",
       "      <td>2002</td>\n",
       "      <td>9</td>\n",
       "      <td>1</td>\n",
       "      <td>06:21</td>\n",
       "      <td>134.09</td>\n",
       "      <td>Swipe Transaction</td>\n",
       "      <td>3527213246127876953</td>\n",
       "      <td>La Verne</td>\n",
       "      <td>CA</td>\n",
       "      <td>91750.0</td>\n",
       "      <td>5300</td>\n",
       "      <td>NaN</td>\n",
       "      <td>No</td>\n",
       "      <td>6</td>\n",
       "    </tr>\n",
       "    <tr>\n",
       "      <th>1</th>\n",
       "      <td>0</td>\n",
       "      <td>0</td>\n",
       "      <td>2002</td>\n",
       "      <td>9</td>\n",
       "      <td>1</td>\n",
       "      <td>06:42</td>\n",
       "      <td>38.48</td>\n",
       "      <td>Swipe Transaction</td>\n",
       "      <td>-727612092139916043</td>\n",
       "      <td>Monterey Park</td>\n",
       "      <td>CA</td>\n",
       "      <td>91754.0</td>\n",
       "      <td>5411</td>\n",
       "      <td>NaN</td>\n",
       "      <td>No</td>\n",
       "      <td>6</td>\n",
       "    </tr>\n",
       "    <tr>\n",
       "      <th>2</th>\n",
       "      <td>0</td>\n",
       "      <td>0</td>\n",
       "      <td>2002</td>\n",
       "      <td>9</td>\n",
       "      <td>2</td>\n",
       "      <td>06:22</td>\n",
       "      <td>120.34</td>\n",
       "      <td>Swipe Transaction</td>\n",
       "      <td>-727612092139916043</td>\n",
       "      <td>Monterey Park</td>\n",
       "      <td>CA</td>\n",
       "      <td>91754.0</td>\n",
       "      <td>5411</td>\n",
       "      <td>NaN</td>\n",
       "      <td>No</td>\n",
       "      <td>6</td>\n",
       "    </tr>\n",
       "    <tr>\n",
       "      <th>3</th>\n",
       "      <td>0</td>\n",
       "      <td>0</td>\n",
       "      <td>2002</td>\n",
       "      <td>9</td>\n",
       "      <td>2</td>\n",
       "      <td>17:45</td>\n",
       "      <td>128.95</td>\n",
       "      <td>Swipe Transaction</td>\n",
       "      <td>3414527459579106770</td>\n",
       "      <td>Monterey Park</td>\n",
       "      <td>CA</td>\n",
       "      <td>91754.0</td>\n",
       "      <td>5651</td>\n",
       "      <td>NaN</td>\n",
       "      <td>No</td>\n",
       "      <td>17</td>\n",
       "    </tr>\n",
       "    <tr>\n",
       "      <th>4</th>\n",
       "      <td>0</td>\n",
       "      <td>0</td>\n",
       "      <td>2002</td>\n",
       "      <td>9</td>\n",
       "      <td>3</td>\n",
       "      <td>06:23</td>\n",
       "      <td>104.71</td>\n",
       "      <td>Swipe Transaction</td>\n",
       "      <td>5817218446178736267</td>\n",
       "      <td>La Verne</td>\n",
       "      <td>CA</td>\n",
       "      <td>91750.0</td>\n",
       "      <td>5912</td>\n",
       "      <td>NaN</td>\n",
       "      <td>No</td>\n",
       "      <td>6</td>\n",
       "    </tr>\n",
       "  </tbody>\n",
       "</table>\n",
       "</div>"
      ],
      "text/plain": [
       "   User  Card  Year  Month  Day   Time  Amount           Use Chip  \\\n",
       "0     0     0  2002      9    1  06:21  134.09  Swipe Transaction   \n",
       "1     0     0  2002      9    1  06:42   38.48  Swipe Transaction   \n",
       "2     0     0  2002      9    2  06:22  120.34  Swipe Transaction   \n",
       "3     0     0  2002      9    2  17:45  128.95  Swipe Transaction   \n",
       "4     0     0  2002      9    3  06:23  104.71  Swipe Transaction   \n",
       "\n",
       "         Merchant Name  Merchant City Merchant State      Zip   MCC Errors?  \\\n",
       "0  3527213246127876953       La Verne             CA  91750.0  5300     NaN   \n",
       "1  -727612092139916043  Monterey Park             CA  91754.0  5411     NaN   \n",
       "2  -727612092139916043  Monterey Park             CA  91754.0  5411     NaN   \n",
       "3  3414527459579106770  Monterey Park             CA  91754.0  5651     NaN   \n",
       "4  5817218446178736267       La Verne             CA  91750.0  5912     NaN   \n",
       "\n",
       "  Is Fraud?  hour  \n",
       "0        No     6  \n",
       "1        No     6  \n",
       "2        No     6  \n",
       "3        No    17  \n",
       "4        No     6  "
      ]
     },
     "execution_count": 31,
     "metadata": {},
     "output_type": "execute_result"
    }
   ],
   "source": [
    "data.head()"
   ]
  },
  {
   "cell_type": "code",
   "execution_count": null,
   "metadata": {
    "id": "BER4IiiHSOP3"
   },
   "outputs": [],
   "source": [
    "data_state_na = data[data['Merchant State'].isna()]"
   ]
  },
  {
   "cell_type": "code",
   "execution_count": null,
   "metadata": {
    "id": "_jxGaFmzSOP3",
    "outputId": "a3038ce0-08e1-4e69-b961-bdaeb90b7ac6"
   },
   "outputs": [
    {
     "data": {
      "text/plain": [
       "2720821"
      ]
     },
     "execution_count": 33,
     "metadata": {},
     "output_type": "execute_result"
    }
   ],
   "source": [
    "len(data_state_na)"
   ]
  },
  {
   "cell_type": "code",
   "execution_count": null,
   "metadata": {
    "id": "XcPgUuudSOP3",
    "outputId": "63f549b2-0cb8-47ab-f00f-1bba499e596d"
   },
   "outputs": [
    {
     "data": {
      "text/html": [
       "<div>\n",
       "<style scoped>\n",
       "    .dataframe tbody tr th:only-of-type {\n",
       "        vertical-align: middle;\n",
       "    }\n",
       "\n",
       "    .dataframe tbody tr th {\n",
       "        vertical-align: top;\n",
       "    }\n",
       "\n",
       "    .dataframe thead th {\n",
       "        text-align: right;\n",
       "    }\n",
       "</style>\n",
       "<table border=\"1\" class=\"dataframe\">\n",
       "  <thead>\n",
       "    <tr style=\"text-align: right;\">\n",
       "      <th></th>\n",
       "      <th>User</th>\n",
       "      <th>Card</th>\n",
       "      <th>Year</th>\n",
       "      <th>Month</th>\n",
       "      <th>Day</th>\n",
       "      <th>Time</th>\n",
       "      <th>Amount</th>\n",
       "      <th>Use Chip</th>\n",
       "      <th>Merchant Name</th>\n",
       "      <th>Merchant City</th>\n",
       "      <th>Merchant State</th>\n",
       "      <th>Zip</th>\n",
       "      <th>MCC</th>\n",
       "      <th>Errors?</th>\n",
       "      <th>Is Fraud?</th>\n",
       "      <th>hour</th>\n",
       "    </tr>\n",
       "  </thead>\n",
       "  <tbody>\n",
       "    <tr>\n",
       "      <th>11</th>\n",
       "      <td>0</td>\n",
       "      <td>0</td>\n",
       "      <td>2002</td>\n",
       "      <td>9</td>\n",
       "      <td>5</td>\n",
       "      <td>20:41</td>\n",
       "      <td>53.91</td>\n",
       "      <td>Online Transaction</td>\n",
       "      <td>-9092677072201095172</td>\n",
       "      <td>ONLINE</td>\n",
       "      <td>NaN</td>\n",
       "      <td>NaN</td>\n",
       "      <td>4900</td>\n",
       "      <td>NaN</td>\n",
       "      <td>No</td>\n",
       "      <td>20</td>\n",
       "    </tr>\n",
       "    <tr>\n",
       "      <th>24</th>\n",
       "      <td>0</td>\n",
       "      <td>0</td>\n",
       "      <td>2002</td>\n",
       "      <td>9</td>\n",
       "      <td>9</td>\n",
       "      <td>20:02</td>\n",
       "      <td>144.90</td>\n",
       "      <td>Online Transaction</td>\n",
       "      <td>-8338381919281017248</td>\n",
       "      <td>ONLINE</td>\n",
       "      <td>NaN</td>\n",
       "      <td>NaN</td>\n",
       "      <td>4899</td>\n",
       "      <td>NaN</td>\n",
       "      <td>No</td>\n",
       "      <td>20</td>\n",
       "    </tr>\n",
       "    <tr>\n",
       "      <th>85</th>\n",
       "      <td>0</td>\n",
       "      <td>0</td>\n",
       "      <td>2002</td>\n",
       "      <td>9</td>\n",
       "      <td>30</td>\n",
       "      <td>06:21</td>\n",
       "      <td>127.32</td>\n",
       "      <td>Online Transaction</td>\n",
       "      <td>-7421093378627544099</td>\n",
       "      <td>ONLINE</td>\n",
       "      <td>NaN</td>\n",
       "      <td>NaN</td>\n",
       "      <td>5311</td>\n",
       "      <td>NaN</td>\n",
       "      <td>No</td>\n",
       "      <td>6</td>\n",
       "    </tr>\n",
       "    <tr>\n",
       "      <th>99</th>\n",
       "      <td>0</td>\n",
       "      <td>0</td>\n",
       "      <td>2002</td>\n",
       "      <td>10</td>\n",
       "      <td>6</td>\n",
       "      <td>06:14</td>\n",
       "      <td>139.39</td>\n",
       "      <td>Online Transaction</td>\n",
       "      <td>-7421093378627544099</td>\n",
       "      <td>ONLINE</td>\n",
       "      <td>NaN</td>\n",
       "      <td>NaN</td>\n",
       "      <td>5311</td>\n",
       "      <td>NaN</td>\n",
       "      <td>No</td>\n",
       "      <td>6</td>\n",
       "    </tr>\n",
       "    <tr>\n",
       "      <th>106</th>\n",
       "      <td>0</td>\n",
       "      <td>0</td>\n",
       "      <td>2002</td>\n",
       "      <td>10</td>\n",
       "      <td>9</td>\n",
       "      <td>08:16</td>\n",
       "      <td>53.09</td>\n",
       "      <td>Online Transaction</td>\n",
       "      <td>-4956618006720593695</td>\n",
       "      <td>ONLINE</td>\n",
       "      <td>NaN</td>\n",
       "      <td>NaN</td>\n",
       "      <td>5193</td>\n",
       "      <td>NaN</td>\n",
       "      <td>No</td>\n",
       "      <td>8</td>\n",
       "    </tr>\n",
       "  </tbody>\n",
       "</table>\n",
       "</div>"
      ],
      "text/plain": [
       "     User  Card  Year  Month  Day   Time  Amount            Use Chip  \\\n",
       "11      0     0  2002      9    5  20:41   53.91  Online Transaction   \n",
       "24      0     0  2002      9    9  20:02  144.90  Online Transaction   \n",
       "85      0     0  2002      9   30  06:21  127.32  Online Transaction   \n",
       "99      0     0  2002     10    6  06:14  139.39  Online Transaction   \n",
       "106     0     0  2002     10    9  08:16   53.09  Online Transaction   \n",
       "\n",
       "           Merchant Name Merchant City Merchant State  Zip   MCC Errors?  \\\n",
       "11  -9092677072201095172        ONLINE            NaN  NaN  4900     NaN   \n",
       "24  -8338381919281017248        ONLINE            NaN  NaN  4899     NaN   \n",
       "85  -7421093378627544099        ONLINE            NaN  NaN  5311     NaN   \n",
       "99  -7421093378627544099        ONLINE            NaN  NaN  5311     NaN   \n",
       "106 -4956618006720593695        ONLINE            NaN  NaN  5193     NaN   \n",
       "\n",
       "    Is Fraud?  hour  \n",
       "11         No    20  \n",
       "24         No    20  \n",
       "85         No     6  \n",
       "99         No     6  \n",
       "106        No     8  "
      ]
     },
     "execution_count": 34,
     "metadata": {},
     "output_type": "execute_result"
    }
   ],
   "source": [
    "data_state_na.head()"
   ]
  },
  {
   "cell_type": "code",
   "execution_count": null,
   "metadata": {
    "id": "WgAhHyLkSOP3",
    "outputId": "06e9dc5b-3ce1-420e-cc94-6ab370bc68a4"
   },
   "outputs": [
    {
     "data": {
      "text/plain": [
       "18349"
      ]
     },
     "execution_count": 35,
     "metadata": {},
     "output_type": "execute_result"
    }
   ],
   "source": [
    "len(data_state_na[data_state_na['Is Fraud?'] == 'Yes'])"
   ]
  },
  {
   "cell_type": "code",
   "execution_count": null,
   "metadata": {
    "id": "9LIEFITaSOP3",
    "outputId": "32e6c868-afd2-48c5-c98e-f58dd7405ec4"
   },
   "outputs": [
    {
     "data": {
      "text/plain": [
       "2720821"
      ]
     },
     "execution_count": 36,
     "metadata": {},
     "output_type": "execute_result"
    }
   ],
   "source": [
    "len(data_state_na[data_state_na['Merchant City'] == ' ONLINE'])"
   ]
  },
  {
   "cell_type": "code",
   "execution_count": null,
   "metadata": {
    "id": "RphZK5ruSOP3",
    "outputId": "6d467a9e-e682-421f-bd02-348c4461043c"
   },
   "outputs": [
    {
     "data": {
      "text/plain": [
       "2720821"
      ]
     },
     "execution_count": 37,
     "metadata": {},
     "output_type": "execute_result"
    }
   ],
   "source": [
    "len(data_state_na)"
   ]
  },
  {
   "cell_type": "code",
   "execution_count": null,
   "metadata": {
    "id": "hAS6YoAdSOP4",
    "outputId": "2a5b9734-e2d6-4557-9f93-ae201a648324"
   },
   "outputs": [
    {
     "data": {
      "text/plain": [
       "array([' ONLINE'], dtype=object)"
      ]
     },
     "execution_count": 38,
     "metadata": {},
     "output_type": "execute_result"
    }
   ],
   "source": [
    "data_state_na['Merchant City'].unique()"
   ]
  },
  {
   "cell_type": "code",
   "execution_count": null,
   "metadata": {
    "id": "TVGHf0ClSOP4",
    "outputId": "bd8871e0-3065-4470-b57c-ee499554c5b2"
   },
   "outputs": [
    {
     "data": {
      "text/plain": [
       "0"
      ]
     },
     "execution_count": 39,
     "metadata": {},
     "output_type": "execute_result"
    }
   ],
   "source": [
    "len(data_state_na[data_state_na['Merchant City'] == 'ONLINE'])"
   ]
  },
  {
   "cell_type": "code",
   "execution_count": null,
   "metadata": {
    "id": "3mpzUcNYSOP4",
    "outputId": "a9a78ca1-9cac-4ee2-d561-dd7a51fa6a6a"
   },
   "outputs": [
    {
     "data": {
      "text/plain": [
       "157314"
      ]
     },
     "execution_count": 40,
     "metadata": {},
     "output_type": "execute_result"
    }
   ],
   "source": [
    "len(data[data['Zip'].isna() & data['Merchant State'].notna()])"
   ]
  },
  {
   "cell_type": "code",
   "execution_count": null,
   "metadata": {
    "id": "FxkCi_MJSOP4"
   },
   "outputs": [],
   "source": [
    "data_zip_na_state_notna = data[data['Zip'].isna() & data['Merchant State'].notna()]"
   ]
  },
  {
   "cell_type": "code",
   "execution_count": null,
   "metadata": {
    "id": "oPSbJteRSOP4",
    "outputId": "981b4e53-60f5-47e5-c5e7-41fe8806fcf5"
   },
   "outputs": [
    {
     "data": {
      "text/html": [
       "<div>\n",
       "<style scoped>\n",
       "    .dataframe tbody tr th:only-of-type {\n",
       "        vertical-align: middle;\n",
       "    }\n",
       "\n",
       "    .dataframe tbody tr th {\n",
       "        vertical-align: top;\n",
       "    }\n",
       "\n",
       "    .dataframe thead th {\n",
       "        text-align: right;\n",
       "    }\n",
       "</style>\n",
       "<table border=\"1\" class=\"dataframe\">\n",
       "  <thead>\n",
       "    <tr style=\"text-align: right;\">\n",
       "      <th></th>\n",
       "      <th>User</th>\n",
       "      <th>Card</th>\n",
       "      <th>Year</th>\n",
       "      <th>Month</th>\n",
       "      <th>Day</th>\n",
       "      <th>Time</th>\n",
       "      <th>Amount</th>\n",
       "      <th>Use Chip</th>\n",
       "      <th>Merchant Name</th>\n",
       "      <th>Merchant City</th>\n",
       "      <th>Merchant State</th>\n",
       "      <th>Zip</th>\n",
       "      <th>MCC</th>\n",
       "      <th>Errors?</th>\n",
       "      <th>Is Fraud?</th>\n",
       "      <th>hour</th>\n",
       "    </tr>\n",
       "  </thead>\n",
       "  <tbody>\n",
       "    <tr>\n",
       "      <th>407</th>\n",
       "      <td>0</td>\n",
       "      <td>0</td>\n",
       "      <td>2003</td>\n",
       "      <td>2</td>\n",
       "      <td>24</td>\n",
       "      <td>13:02</td>\n",
       "      <td>7.52</td>\n",
       "      <td>Swipe Transaction</td>\n",
       "      <td>-727612092139916043</td>\n",
       "      <td>Zurich</td>\n",
       "      <td>Switzerland</td>\n",
       "      <td>NaN</td>\n",
       "      <td>5411</td>\n",
       "      <td>NaN</td>\n",
       "      <td>No</td>\n",
       "      <td>13</td>\n",
       "    </tr>\n",
       "    <tr>\n",
       "      <th>408</th>\n",
       "      <td>0</td>\n",
       "      <td>0</td>\n",
       "      <td>2003</td>\n",
       "      <td>2</td>\n",
       "      <td>25</td>\n",
       "      <td>06:46</td>\n",
       "      <td>36.97</td>\n",
       "      <td>Swipe Transaction</td>\n",
       "      <td>-4816289482172287511</td>\n",
       "      <td>Zurich</td>\n",
       "      <td>Switzerland</td>\n",
       "      <td>NaN</td>\n",
       "      <td>5411</td>\n",
       "      <td>NaN</td>\n",
       "      <td>No</td>\n",
       "      <td>6</td>\n",
       "    </tr>\n",
       "    <tr>\n",
       "      <th>906</th>\n",
       "      <td>0</td>\n",
       "      <td>0</td>\n",
       "      <td>2004</td>\n",
       "      <td>7</td>\n",
       "      <td>22</td>\n",
       "      <td>06:32</td>\n",
       "      <td>38.26</td>\n",
       "      <td>Swipe Transaction</td>\n",
       "      <td>3510944833163794547</td>\n",
       "      <td>Tallinn</td>\n",
       "      <td>Estonia</td>\n",
       "      <td>NaN</td>\n",
       "      <td>5912</td>\n",
       "      <td>NaN</td>\n",
       "      <td>No</td>\n",
       "      <td>6</td>\n",
       "    </tr>\n",
       "    <tr>\n",
       "      <th>907</th>\n",
       "      <td>0</td>\n",
       "      <td>0</td>\n",
       "      <td>2004</td>\n",
       "      <td>7</td>\n",
       "      <td>23</td>\n",
       "      <td>20:05</td>\n",
       "      <td>75.38</td>\n",
       "      <td>Swipe Transaction</td>\n",
       "      <td>8793545055147237096</td>\n",
       "      <td>Tallinn</td>\n",
       "      <td>Estonia</td>\n",
       "      <td>NaN</td>\n",
       "      <td>5812</td>\n",
       "      <td>NaN</td>\n",
       "      <td>No</td>\n",
       "      <td>20</td>\n",
       "    </tr>\n",
       "    <tr>\n",
       "      <th>908</th>\n",
       "      <td>0</td>\n",
       "      <td>0</td>\n",
       "      <td>2004</td>\n",
       "      <td>7</td>\n",
       "      <td>25</td>\n",
       "      <td>13:08</td>\n",
       "      <td>16.20</td>\n",
       "      <td>Swipe Transaction</td>\n",
       "      <td>2027553650310142703</td>\n",
       "      <td>Tallinn</td>\n",
       "      <td>Estonia</td>\n",
       "      <td>NaN</td>\n",
       "      <td>5541</td>\n",
       "      <td>NaN</td>\n",
       "      <td>No</td>\n",
       "      <td>13</td>\n",
       "    </tr>\n",
       "  </tbody>\n",
       "</table>\n",
       "</div>"
      ],
      "text/plain": [
       "     User  Card  Year  Month  Day   Time  Amount           Use Chip  \\\n",
       "407     0     0  2003      2   24  13:02    7.52  Swipe Transaction   \n",
       "408     0     0  2003      2   25  06:46   36.97  Swipe Transaction   \n",
       "906     0     0  2004      7   22  06:32   38.26  Swipe Transaction   \n",
       "907     0     0  2004      7   23  20:05   75.38  Swipe Transaction   \n",
       "908     0     0  2004      7   25  13:08   16.20  Swipe Transaction   \n",
       "\n",
       "           Merchant Name Merchant City Merchant State  Zip   MCC Errors?  \\\n",
       "407  -727612092139916043        Zurich    Switzerland  NaN  5411     NaN   \n",
       "408 -4816289482172287511        Zurich    Switzerland  NaN  5411     NaN   \n",
       "906  3510944833163794547       Tallinn        Estonia  NaN  5912     NaN   \n",
       "907  8793545055147237096       Tallinn        Estonia  NaN  5812     NaN   \n",
       "908  2027553650310142703       Tallinn        Estonia  NaN  5541     NaN   \n",
       "\n",
       "    Is Fraud?  hour  \n",
       "407        No    13  \n",
       "408        No     6  \n",
       "906        No     6  \n",
       "907        No    20  \n",
       "908        No    13  "
      ]
     },
     "execution_count": 42,
     "metadata": {},
     "output_type": "execute_result"
    }
   ],
   "source": [
    "data_zip_na_state_notna.head()"
   ]
  },
  {
   "cell_type": "markdown",
   "metadata": {
    "id": "CzCrgmfDSOP4"
   },
   "source": [
    "getting nan for the merchant state whenever the transaction made online and no data found for their state and zip code is also nan at that time. so replacing merchant state with online is the good choice. "
   ]
  },
  {
   "cell_type": "markdown",
   "metadata": {
    "id": "YItuxmIWSOP4"
   },
   "source": [
    "Zip column contains 11% of missing values, and that can be imputed if we find zip value for same merchant state and city for which we already have zip values. "
   ]
  },
  {
   "cell_type": "code",
   "execution_count": null,
   "metadata": {
    "id": "dxz-wz1ASOP4"
   },
   "outputs": [],
   "source": [
    "data_zip_notna = data[data['Zip'].notna() & data['Merchant State'].notna()]"
   ]
  },
  {
   "cell_type": "code",
   "execution_count": null,
   "metadata": {
    "id": "_Sfk24gPSOP4",
    "outputId": "8e8d78aa-7d45-4f9f-b005-d7a6aa2ef5f5"
   },
   "outputs": [
    {
     "data": {
      "text/html": [
       "<div>\n",
       "<style scoped>\n",
       "    .dataframe tbody tr th:only-of-type {\n",
       "        vertical-align: middle;\n",
       "    }\n",
       "\n",
       "    .dataframe tbody tr th {\n",
       "        vertical-align: top;\n",
       "    }\n",
       "\n",
       "    .dataframe thead th {\n",
       "        text-align: right;\n",
       "    }\n",
       "</style>\n",
       "<table border=\"1\" class=\"dataframe\">\n",
       "  <thead>\n",
       "    <tr style=\"text-align: right;\">\n",
       "      <th></th>\n",
       "      <th>User</th>\n",
       "      <th>Card</th>\n",
       "      <th>Year</th>\n",
       "      <th>Month</th>\n",
       "      <th>Day</th>\n",
       "      <th>Time</th>\n",
       "      <th>Amount</th>\n",
       "      <th>Use Chip</th>\n",
       "      <th>Merchant Name</th>\n",
       "      <th>Merchant City</th>\n",
       "      <th>Merchant State</th>\n",
       "      <th>Zip</th>\n",
       "      <th>MCC</th>\n",
       "      <th>Errors?</th>\n",
       "      <th>Is Fraud?</th>\n",
       "      <th>hour</th>\n",
       "    </tr>\n",
       "  </thead>\n",
       "  <tbody>\n",
       "    <tr>\n",
       "      <th>0</th>\n",
       "      <td>0</td>\n",
       "      <td>0</td>\n",
       "      <td>2002</td>\n",
       "      <td>9</td>\n",
       "      <td>1</td>\n",
       "      <td>06:21</td>\n",
       "      <td>134.09</td>\n",
       "      <td>Swipe Transaction</td>\n",
       "      <td>3527213246127876953</td>\n",
       "      <td>La Verne</td>\n",
       "      <td>CA</td>\n",
       "      <td>91750.0</td>\n",
       "      <td>5300</td>\n",
       "      <td>NaN</td>\n",
       "      <td>No</td>\n",
       "      <td>6</td>\n",
       "    </tr>\n",
       "    <tr>\n",
       "      <th>1</th>\n",
       "      <td>0</td>\n",
       "      <td>0</td>\n",
       "      <td>2002</td>\n",
       "      <td>9</td>\n",
       "      <td>1</td>\n",
       "      <td>06:42</td>\n",
       "      <td>38.48</td>\n",
       "      <td>Swipe Transaction</td>\n",
       "      <td>-727612092139916043</td>\n",
       "      <td>Monterey Park</td>\n",
       "      <td>CA</td>\n",
       "      <td>91754.0</td>\n",
       "      <td>5411</td>\n",
       "      <td>NaN</td>\n",
       "      <td>No</td>\n",
       "      <td>6</td>\n",
       "    </tr>\n",
       "    <tr>\n",
       "      <th>2</th>\n",
       "      <td>0</td>\n",
       "      <td>0</td>\n",
       "      <td>2002</td>\n",
       "      <td>9</td>\n",
       "      <td>2</td>\n",
       "      <td>06:22</td>\n",
       "      <td>120.34</td>\n",
       "      <td>Swipe Transaction</td>\n",
       "      <td>-727612092139916043</td>\n",
       "      <td>Monterey Park</td>\n",
       "      <td>CA</td>\n",
       "      <td>91754.0</td>\n",
       "      <td>5411</td>\n",
       "      <td>NaN</td>\n",
       "      <td>No</td>\n",
       "      <td>6</td>\n",
       "    </tr>\n",
       "    <tr>\n",
       "      <th>3</th>\n",
       "      <td>0</td>\n",
       "      <td>0</td>\n",
       "      <td>2002</td>\n",
       "      <td>9</td>\n",
       "      <td>2</td>\n",
       "      <td>17:45</td>\n",
       "      <td>128.95</td>\n",
       "      <td>Swipe Transaction</td>\n",
       "      <td>3414527459579106770</td>\n",
       "      <td>Monterey Park</td>\n",
       "      <td>CA</td>\n",
       "      <td>91754.0</td>\n",
       "      <td>5651</td>\n",
       "      <td>NaN</td>\n",
       "      <td>No</td>\n",
       "      <td>17</td>\n",
       "    </tr>\n",
       "    <tr>\n",
       "      <th>4</th>\n",
       "      <td>0</td>\n",
       "      <td>0</td>\n",
       "      <td>2002</td>\n",
       "      <td>9</td>\n",
       "      <td>3</td>\n",
       "      <td>06:23</td>\n",
       "      <td>104.71</td>\n",
       "      <td>Swipe Transaction</td>\n",
       "      <td>5817218446178736267</td>\n",
       "      <td>La Verne</td>\n",
       "      <td>CA</td>\n",
       "      <td>91750.0</td>\n",
       "      <td>5912</td>\n",
       "      <td>NaN</td>\n",
       "      <td>No</td>\n",
       "      <td>6</td>\n",
       "    </tr>\n",
       "  </tbody>\n",
       "</table>\n",
       "</div>"
      ],
      "text/plain": [
       "   User  Card  Year  Month  Day   Time  Amount           Use Chip  \\\n",
       "0     0     0  2002      9    1  06:21  134.09  Swipe Transaction   \n",
       "1     0     0  2002      9    1  06:42   38.48  Swipe Transaction   \n",
       "2     0     0  2002      9    2  06:22  120.34  Swipe Transaction   \n",
       "3     0     0  2002      9    2  17:45  128.95  Swipe Transaction   \n",
       "4     0     0  2002      9    3  06:23  104.71  Swipe Transaction   \n",
       "\n",
       "         Merchant Name  Merchant City Merchant State      Zip   MCC Errors?  \\\n",
       "0  3527213246127876953       La Verne             CA  91750.0  5300     NaN   \n",
       "1  -727612092139916043  Monterey Park             CA  91754.0  5411     NaN   \n",
       "2  -727612092139916043  Monterey Park             CA  91754.0  5411     NaN   \n",
       "3  3414527459579106770  Monterey Park             CA  91754.0  5651     NaN   \n",
       "4  5817218446178736267       La Verne             CA  91750.0  5912     NaN   \n",
       "\n",
       "  Is Fraud?  hour  \n",
       "0        No     6  \n",
       "1        No     6  \n",
       "2        No     6  \n",
       "3        No    17  \n",
       "4        No     6  "
      ]
     },
     "execution_count": 44,
     "metadata": {},
     "output_type": "execute_result"
    }
   ],
   "source": [
    "data_zip_notna.head()"
   ]
  },
  {
   "cell_type": "markdown",
   "metadata": {
    "id": "UskW3MOhSOP4"
   },
   "source": [
    "### Impute Zip value"
   ]
  },
  {
   "cell_type": "code",
   "execution_count": null,
   "metadata": {
    "id": "yHHRU01pSOP4",
    "outputId": "f835cfaf-6290-4c74-cbab-1c0dae7b7bb6"
   },
   "outputs": [
    {
     "data": {
      "text/plain": [
       "array(['Switzerland', 'Estonia', 'Japan', 'Mexico', 'Dominican Republic',\n",
       "       'China', 'Portugal', 'Italy', 'Philippines', 'Jamaica', 'Canada',\n",
       "       'France', 'Norway', 'New Zealand', 'Netherlands', 'Sierra Leone',\n",
       "       'Haiti', 'South Korea', 'Spain', 'Algeria', 'Egypt', 'Indonesia',\n",
       "       'United Kingdom', 'Colombia', 'South Africa', 'The Bahamas',\n",
       "       'Singapore', 'Pakistan', 'Malaysia', 'Mongolia', 'Israel',\n",
       "       'Hong Kong', 'Guatemala', 'Peru', 'Thailand', 'Sweden', 'Taiwan',\n",
       "       'Germany', 'Czech Republic', 'India', 'Poland', 'Costa Rica',\n",
       "       'Denmark', 'Bangladesh', 'Macedonia', 'Nigeria', 'Tuvalu',\n",
       "       'Ireland', 'Vatican City', 'Lithuania', 'Papua New Guinea',\n",
       "       'Belgium', 'Benin', 'Croatia', 'Saudi Arabia', 'Latvia', 'Austria',\n",
       "       'Slovenia', 'Turkey', 'Russia', 'Greece', 'Slovakia', 'Brazil',\n",
       "       'Hungary', 'Argentina', 'Serbia', 'Ghana', 'Oman',\n",
       "       'United Arab Emirates', 'Finland', 'Barbados', 'Australia',\n",
       "       'Vietnam', 'Micronesia', 'Aruba', 'Liechtenstein', 'Cambodia',\n",
       "       'Kosovo', 'South Sudan', 'Luxembourg', 'Myanmar (Burma)',\n",
       "       'Maldives', 'Samoa', 'Burkina Faso', 'Moldova', 'Eritrea', 'Chile',\n",
       "       'Belarus', 'Venezuela', 'Georgia', 'Tanzania', 'Iceland', 'Iran',\n",
       "       'Honduras', 'Sao Tome and Principe', 'Kenya', 'Kiribati', 'Fiji',\n",
       "       'Kuwait', 'Uzbekistan', 'Romania', 'Panama', 'Ethiopia',\n",
       "       'Zimbabwe', 'Ecuador', 'Cyprus', 'Djibouti', 'Cameroon', 'Yemen',\n",
       "       'Uruguay', 'Nicaragua', 'Swaziland', 'Sri Lanka', 'Morocco',\n",
       "       'Malawi', 'Togo', 'Monaco', 'Lebanon', 'Cabo Verde', 'Suriname',\n",
       "       'Mozambique', 'Liberia', 'Ukraine', 'Somalia', 'El Salvador',\n",
       "       'Azerbaijan', 'Bulgaria', 'Jordan', 'Botswana', 'Senegal',\n",
       "       'Bahrain', 'Sudan', 'Niger', 'Albania', 'Mali', 'Tunisia',\n",
       "       'Saint Vincent and the Grenadines', 'Marshall Islands',\n",
       "       'Republic of the Congo', 'Bosnia and Herzegovina', 'Syria',\n",
       "       'Montenegro', 'Iraq', 'Uganda', 'Guinea', 'Gabon',\n",
       "       'Equatorial Guinea', 'Brunei', 'Vanuatu', 'Saint Lucia',\n",
       "       \"Cote d'Ivoire\", 'Comoros', 'Guyana', 'Malta', 'Solomon Islands',\n",
       "       'Belize', 'Nauru', 'Trinidad and Tobago', 'Zambia',\n",
       "       'Democratic Republic of the Congo', 'Dominica', 'Paraguay',\n",
       "       'Tonga', 'Angola', 'Kyrgyzstan', 'Antigua and Barbuda',\n",
       "       'Central African Republic', 'Qatar', 'East Timor (Timor-Leste)',\n",
       "       'Seychelles', 'Andorra'], dtype=object)"
      ]
     },
     "execution_count": 45,
     "metadata": {},
     "output_type": "execute_result"
    }
   ],
   "source": [
    "data_zip_na_state_notna['Merchant State']. unique()"
   ]
  },
  {
   "cell_type": "code",
   "execution_count": null,
   "metadata": {
    "id": "3uLtMX7hSOP4"
   },
   "outputs": [],
   "source": [
    "state_list = data_zip_notna['Merchant State'].unique()"
   ]
  },
  {
   "cell_type": "code",
   "execution_count": null,
   "metadata": {
    "id": "VpfQ297SSOP4",
    "outputId": "7ef01d43-08f4-4f40-f9b3-80c540172af3"
   },
   "outputs": [
    {
     "data": {
      "text/plain": [
       "array(['CA', 'NE', 'IL', 'MO', 'IA', 'TX', 'NJ', 'NV', 'NY', 'AZ', 'UT',\n",
       "       'FL', 'MI', 'WA', 'OH', 'NM', 'SC', 'AK', 'PA', 'VA', 'HI', 'CT',\n",
       "       'MA', 'MN', 'CO', 'GA', 'AR', 'OR', 'WI', 'NC', 'WV', 'ME', 'NH',\n",
       "       'VT', 'MD', 'AL', 'KY', 'TN', 'MS', 'KS', 'ND', 'DC', 'MT', 'OK',\n",
       "       'WY', 'ID', 'RI', 'IN', 'LA', 'DE', 'SD', 'AA'], dtype=object)"
      ]
     },
     "execution_count": 47,
     "metadata": {},
     "output_type": "execute_result"
    }
   ],
   "source": [
    "state_list"
   ]
  },
  {
   "cell_type": "markdown",
   "metadata": {
    "id": "eo40bJMYSOP7"
   },
   "source": [
    "for which we don't find zip code even though we have merchant state : the reason is merchant state doesn't contain \"State\" it contains \"Country\". so create new column Merchant Country and copy Merchant state value in Merchant country for which zip code is not avialable and merchant state is available. and impute \"USA\" as a country for which Zip code is avilable and then drop zip code column. "
   ]
  },
  {
   "cell_type": "code",
   "execution_count": null,
   "metadata": {
    "id": "VhUSC3VZSOP7"
   },
   "outputs": [],
   "source": [
    "data['Zip'] = pd.to_numeric(data['Zip'], errors='coerce')"
   ]
  },
  {
   "cell_type": "code",
   "execution_count": null,
   "metadata": {
    "id": "ZQueB2dASOP7"
   },
   "outputs": [],
   "source": [
    "data['Zip'] = data['Zip'].replace(np.nan, 0)"
   ]
  },
  {
   "cell_type": "code",
   "execution_count": null,
   "metadata": {
    "id": "ECBMd5mTSOP7"
   },
   "outputs": [],
   "source": [
    "data['Zip'] = data['Zip'].astype(int)"
   ]
  },
  {
   "cell_type": "code",
   "execution_count": null,
   "metadata": {
    "id": "g8lFKLPySOP7",
    "outputId": "5e2858ac-7fb4-4e4e-ad32-95307fa4a5a3"
   },
   "outputs": [
    {
     "data": {
      "text/html": [
       "<div>\n",
       "<style scoped>\n",
       "    .dataframe tbody tr th:only-of-type {\n",
       "        vertical-align: middle;\n",
       "    }\n",
       "\n",
       "    .dataframe tbody tr th {\n",
       "        vertical-align: top;\n",
       "    }\n",
       "\n",
       "    .dataframe thead th {\n",
       "        text-align: right;\n",
       "    }\n",
       "</style>\n",
       "<table border=\"1\" class=\"dataframe\">\n",
       "  <thead>\n",
       "    <tr style=\"text-align: right;\">\n",
       "      <th></th>\n",
       "      <th>User</th>\n",
       "      <th>Card</th>\n",
       "      <th>Year</th>\n",
       "      <th>Month</th>\n",
       "      <th>Day</th>\n",
       "      <th>Time</th>\n",
       "      <th>Amount</th>\n",
       "      <th>Use Chip</th>\n",
       "      <th>Merchant Name</th>\n",
       "      <th>Merchant City</th>\n",
       "      <th>Merchant State</th>\n",
       "      <th>Zip</th>\n",
       "      <th>MCC</th>\n",
       "      <th>Errors?</th>\n",
       "      <th>Is Fraud?</th>\n",
       "      <th>hour</th>\n",
       "    </tr>\n",
       "  </thead>\n",
       "  <tbody>\n",
       "    <tr>\n",
       "      <th>0</th>\n",
       "      <td>0</td>\n",
       "      <td>0</td>\n",
       "      <td>2002</td>\n",
       "      <td>9</td>\n",
       "      <td>1</td>\n",
       "      <td>06:21</td>\n",
       "      <td>134.09</td>\n",
       "      <td>Swipe Transaction</td>\n",
       "      <td>3527213246127876953</td>\n",
       "      <td>La Verne</td>\n",
       "      <td>CA</td>\n",
       "      <td>91750</td>\n",
       "      <td>5300</td>\n",
       "      <td>NaN</td>\n",
       "      <td>No</td>\n",
       "      <td>6</td>\n",
       "    </tr>\n",
       "    <tr>\n",
       "      <th>1</th>\n",
       "      <td>0</td>\n",
       "      <td>0</td>\n",
       "      <td>2002</td>\n",
       "      <td>9</td>\n",
       "      <td>1</td>\n",
       "      <td>06:42</td>\n",
       "      <td>38.48</td>\n",
       "      <td>Swipe Transaction</td>\n",
       "      <td>-727612092139916043</td>\n",
       "      <td>Monterey Park</td>\n",
       "      <td>CA</td>\n",
       "      <td>91754</td>\n",
       "      <td>5411</td>\n",
       "      <td>NaN</td>\n",
       "      <td>No</td>\n",
       "      <td>6</td>\n",
       "    </tr>\n",
       "    <tr>\n",
       "      <th>2</th>\n",
       "      <td>0</td>\n",
       "      <td>0</td>\n",
       "      <td>2002</td>\n",
       "      <td>9</td>\n",
       "      <td>2</td>\n",
       "      <td>06:22</td>\n",
       "      <td>120.34</td>\n",
       "      <td>Swipe Transaction</td>\n",
       "      <td>-727612092139916043</td>\n",
       "      <td>Monterey Park</td>\n",
       "      <td>CA</td>\n",
       "      <td>91754</td>\n",
       "      <td>5411</td>\n",
       "      <td>NaN</td>\n",
       "      <td>No</td>\n",
       "      <td>6</td>\n",
       "    </tr>\n",
       "    <tr>\n",
       "      <th>3</th>\n",
       "      <td>0</td>\n",
       "      <td>0</td>\n",
       "      <td>2002</td>\n",
       "      <td>9</td>\n",
       "      <td>2</td>\n",
       "      <td>17:45</td>\n",
       "      <td>128.95</td>\n",
       "      <td>Swipe Transaction</td>\n",
       "      <td>3414527459579106770</td>\n",
       "      <td>Monterey Park</td>\n",
       "      <td>CA</td>\n",
       "      <td>91754</td>\n",
       "      <td>5651</td>\n",
       "      <td>NaN</td>\n",
       "      <td>No</td>\n",
       "      <td>17</td>\n",
       "    </tr>\n",
       "    <tr>\n",
       "      <th>4</th>\n",
       "      <td>0</td>\n",
       "      <td>0</td>\n",
       "      <td>2002</td>\n",
       "      <td>9</td>\n",
       "      <td>3</td>\n",
       "      <td>06:23</td>\n",
       "      <td>104.71</td>\n",
       "      <td>Swipe Transaction</td>\n",
       "      <td>5817218446178736267</td>\n",
       "      <td>La Verne</td>\n",
       "      <td>CA</td>\n",
       "      <td>91750</td>\n",
       "      <td>5912</td>\n",
       "      <td>NaN</td>\n",
       "      <td>No</td>\n",
       "      <td>6</td>\n",
       "    </tr>\n",
       "  </tbody>\n",
       "</table>\n",
       "</div>"
      ],
      "text/plain": [
       "   User  Card  Year  Month  Day   Time  Amount           Use Chip  \\\n",
       "0     0     0  2002      9    1  06:21  134.09  Swipe Transaction   \n",
       "1     0     0  2002      9    1  06:42   38.48  Swipe Transaction   \n",
       "2     0     0  2002      9    2  06:22  120.34  Swipe Transaction   \n",
       "3     0     0  2002      9    2  17:45  128.95  Swipe Transaction   \n",
       "4     0     0  2002      9    3  06:23  104.71  Swipe Transaction   \n",
       "\n",
       "         Merchant Name  Merchant City Merchant State    Zip   MCC Errors?  \\\n",
       "0  3527213246127876953       La Verne             CA  91750  5300     NaN   \n",
       "1  -727612092139916043  Monterey Park             CA  91754  5411     NaN   \n",
       "2  -727612092139916043  Monterey Park             CA  91754  5411     NaN   \n",
       "3  3414527459579106770  Monterey Park             CA  91754  5651     NaN   \n",
       "4  5817218446178736267       La Verne             CA  91750  5912     NaN   \n",
       "\n",
       "  Is Fraud?  hour  \n",
       "0        No     6  \n",
       "1        No     6  \n",
       "2        No     6  \n",
       "3        No    17  \n",
       "4        No     6  "
      ]
     },
     "execution_count": 51,
     "metadata": {},
     "output_type": "execute_result"
    }
   ],
   "source": [
    "data.head()"
   ]
  },
  {
   "cell_type": "code",
   "execution_count": null,
   "metadata": {
    "id": "1kWhtbmTSOP7"
   },
   "outputs": [],
   "source": [
    "data['Merchant State'] = data['Merchant State'].str.strip()"
   ]
  },
  {
   "cell_type": "code",
   "execution_count": null,
   "metadata": {
    "id": "Ga4QD5KKSOP7"
   },
   "outputs": [],
   "source": [
    "data['Merchant City'] = data['Merchant City'].str.strip()"
   ]
  },
  {
   "cell_type": "code",
   "execution_count": null,
   "metadata": {
    "id": "gd-tFrnqSOP7",
    "outputId": "2b8c79f1-6d7d-4b0e-8a7a-fef62b169bb9"
   },
   "outputs": [
    {
     "name": "stdout",
     "output_type": "stream",
     "text": [
      "Empty\n"
     ]
    }
   ],
   "source": [
    "string = \"\"\n",
    "if string == \"\":\n",
    "    print(\"Empty\")"
   ]
  },
  {
   "cell_type": "code",
   "execution_count": null,
   "metadata": {
    "id": "EPPlG77kSOP7"
   },
   "outputs": [],
   "source": [
    "def imputCountry(row):  \n",
    "    try : \n",
    "        if row['Zip'] == 0 and row['Merchant State'] != \"\":\n",
    "            return row['Merchant State']\n",
    "        elif row['Zip'] != 0 and row['Merchant State'] != \"\":\n",
    "            return 'USA'\n",
    "        if isNaN(row['Merchant State']):\n",
    "            row['Merchant State'] = 'ONLINE'\n",
    "        return 'ONLINE'\n",
    "    except Exception as e:\n",
    "        print(\"Error message : ------------ \", e)\n",
    "        print(row['Zip'] , \" \", row['Merchant State'])\n",
    "        "
   ]
  },
  {
   "cell_type": "code",
   "execution_count": null,
   "metadata": {
    "id": "Z4sNOvWiSOP7"
   },
   "outputs": [],
   "source": [
    "data['Merchant Country'] = data.apply(lambda row: imputCountry(row), axis=1)"
   ]
  },
  {
   "cell_type": "code",
   "execution_count": null,
   "metadata": {
    "id": "NdpElx7vSOP8",
    "outputId": "bf42e448-85bd-48c0-b6ee-8b6ca1ab0979"
   },
   "outputs": [
    {
     "data": {
      "text/html": [
       "<div>\n",
       "<style scoped>\n",
       "    .dataframe tbody tr th:only-of-type {\n",
       "        vertical-align: middle;\n",
       "    }\n",
       "\n",
       "    .dataframe tbody tr th {\n",
       "        vertical-align: top;\n",
       "    }\n",
       "\n",
       "    .dataframe thead th {\n",
       "        text-align: right;\n",
       "    }\n",
       "</style>\n",
       "<table border=\"1\" class=\"dataframe\">\n",
       "  <thead>\n",
       "    <tr style=\"text-align: right;\">\n",
       "      <th></th>\n",
       "      <th>User</th>\n",
       "      <th>Card</th>\n",
       "      <th>Year</th>\n",
       "      <th>Month</th>\n",
       "      <th>Day</th>\n",
       "      <th>Time</th>\n",
       "      <th>Amount</th>\n",
       "      <th>Use Chip</th>\n",
       "      <th>Merchant Name</th>\n",
       "      <th>Merchant City</th>\n",
       "      <th>Merchant State</th>\n",
       "      <th>Zip</th>\n",
       "      <th>MCC</th>\n",
       "      <th>Errors?</th>\n",
       "      <th>Is Fraud?</th>\n",
       "      <th>hour</th>\n",
       "      <th>Merchant Country</th>\n",
       "    </tr>\n",
       "  </thead>\n",
       "  <tbody>\n",
       "    <tr>\n",
       "      <th>0</th>\n",
       "      <td>0</td>\n",
       "      <td>0</td>\n",
       "      <td>2002</td>\n",
       "      <td>9</td>\n",
       "      <td>1</td>\n",
       "      <td>06:21</td>\n",
       "      <td>134.09</td>\n",
       "      <td>Swipe Transaction</td>\n",
       "      <td>3527213246127876953</td>\n",
       "      <td>La Verne</td>\n",
       "      <td>CA</td>\n",
       "      <td>91750</td>\n",
       "      <td>5300</td>\n",
       "      <td>NaN</td>\n",
       "      <td>No</td>\n",
       "      <td>6</td>\n",
       "      <td>USA</td>\n",
       "    </tr>\n",
       "    <tr>\n",
       "      <th>1</th>\n",
       "      <td>0</td>\n",
       "      <td>0</td>\n",
       "      <td>2002</td>\n",
       "      <td>9</td>\n",
       "      <td>1</td>\n",
       "      <td>06:42</td>\n",
       "      <td>38.48</td>\n",
       "      <td>Swipe Transaction</td>\n",
       "      <td>-727612092139916043</td>\n",
       "      <td>Monterey Park</td>\n",
       "      <td>CA</td>\n",
       "      <td>91754</td>\n",
       "      <td>5411</td>\n",
       "      <td>NaN</td>\n",
       "      <td>No</td>\n",
       "      <td>6</td>\n",
       "      <td>USA</td>\n",
       "    </tr>\n",
       "    <tr>\n",
       "      <th>2</th>\n",
       "      <td>0</td>\n",
       "      <td>0</td>\n",
       "      <td>2002</td>\n",
       "      <td>9</td>\n",
       "      <td>2</td>\n",
       "      <td>06:22</td>\n",
       "      <td>120.34</td>\n",
       "      <td>Swipe Transaction</td>\n",
       "      <td>-727612092139916043</td>\n",
       "      <td>Monterey Park</td>\n",
       "      <td>CA</td>\n",
       "      <td>91754</td>\n",
       "      <td>5411</td>\n",
       "      <td>NaN</td>\n",
       "      <td>No</td>\n",
       "      <td>6</td>\n",
       "      <td>USA</td>\n",
       "    </tr>\n",
       "    <tr>\n",
       "      <th>3</th>\n",
       "      <td>0</td>\n",
       "      <td>0</td>\n",
       "      <td>2002</td>\n",
       "      <td>9</td>\n",
       "      <td>2</td>\n",
       "      <td>17:45</td>\n",
       "      <td>128.95</td>\n",
       "      <td>Swipe Transaction</td>\n",
       "      <td>3414527459579106770</td>\n",
       "      <td>Monterey Park</td>\n",
       "      <td>CA</td>\n",
       "      <td>91754</td>\n",
       "      <td>5651</td>\n",
       "      <td>NaN</td>\n",
       "      <td>No</td>\n",
       "      <td>17</td>\n",
       "      <td>USA</td>\n",
       "    </tr>\n",
       "    <tr>\n",
       "      <th>4</th>\n",
       "      <td>0</td>\n",
       "      <td>0</td>\n",
       "      <td>2002</td>\n",
       "      <td>9</td>\n",
       "      <td>3</td>\n",
       "      <td>06:23</td>\n",
       "      <td>104.71</td>\n",
       "      <td>Swipe Transaction</td>\n",
       "      <td>5817218446178736267</td>\n",
       "      <td>La Verne</td>\n",
       "      <td>CA</td>\n",
       "      <td>91750</td>\n",
       "      <td>5912</td>\n",
       "      <td>NaN</td>\n",
       "      <td>No</td>\n",
       "      <td>6</td>\n",
       "      <td>USA</td>\n",
       "    </tr>\n",
       "  </tbody>\n",
       "</table>\n",
       "</div>"
      ],
      "text/plain": [
       "   User  Card  Year  Month  Day   Time  Amount           Use Chip  \\\n",
       "0     0     0  2002      9    1  06:21  134.09  Swipe Transaction   \n",
       "1     0     0  2002      9    1  06:42   38.48  Swipe Transaction   \n",
       "2     0     0  2002      9    2  06:22  120.34  Swipe Transaction   \n",
       "3     0     0  2002      9    2  17:45  128.95  Swipe Transaction   \n",
       "4     0     0  2002      9    3  06:23  104.71  Swipe Transaction   \n",
       "\n",
       "         Merchant Name  Merchant City Merchant State    Zip   MCC Errors?  \\\n",
       "0  3527213246127876953       La Verne             CA  91750  5300     NaN   \n",
       "1  -727612092139916043  Monterey Park             CA  91754  5411     NaN   \n",
       "2  -727612092139916043  Monterey Park             CA  91754  5411     NaN   \n",
       "3  3414527459579106770  Monterey Park             CA  91754  5651     NaN   \n",
       "4  5817218446178736267       La Verne             CA  91750  5912     NaN   \n",
       "\n",
       "  Is Fraud?  hour Merchant Country  \n",
       "0        No     6              USA  \n",
       "1        No     6              USA  \n",
       "2        No     6              USA  \n",
       "3        No    17              USA  \n",
       "4        No     6              USA  "
      ]
     },
     "execution_count": 57,
     "metadata": {},
     "output_type": "execute_result"
    }
   ],
   "source": [
    "data.head()"
   ]
  },
  {
   "cell_type": "code",
   "execution_count": null,
   "metadata": {
    "id": "kbOitNpNSOP8",
    "outputId": "6a4afae0-495c-4723-c2b9-40fb6b5f434d"
   },
   "outputs": [
    {
     "data": {
      "text/plain": [
       "User                       0\n",
       "Card                       0\n",
       "Year                       0\n",
       "Month                      0\n",
       "Day                        0\n",
       "Time                       0\n",
       "Amount                     0\n",
       "Use Chip                   0\n",
       "Merchant Name              0\n",
       "Merchant City              0\n",
       "Merchant State       2720821\n",
       "Zip                        0\n",
       "MCC                        0\n",
       "Errors?             23998469\n",
       "Is Fraud?                  0\n",
       "hour                       0\n",
       "Merchant Country     2720821\n",
       "dtype: int64"
      ]
     },
     "execution_count": 58,
     "metadata": {},
     "output_type": "execute_result"
    }
   ],
   "source": [
    "data.isna().sum()"
   ]
  },
  {
   "cell_type": "code",
   "execution_count": null,
   "metadata": {
    "id": "n3fqGXeoSOP8",
    "outputId": "be2525fd-7c89-4e68-a936-b0d719b6b8ec"
   },
   "outputs": [
    {
     "data": {
      "text/html": [
       "<div>\n",
       "<style scoped>\n",
       "    .dataframe tbody tr th:only-of-type {\n",
       "        vertical-align: middle;\n",
       "    }\n",
       "\n",
       "    .dataframe tbody tr th {\n",
       "        vertical-align: top;\n",
       "    }\n",
       "\n",
       "    .dataframe thead th {\n",
       "        text-align: right;\n",
       "    }\n",
       "</style>\n",
       "<table border=\"1\" class=\"dataframe\">\n",
       "  <thead>\n",
       "    <tr style=\"text-align: right;\">\n",
       "      <th></th>\n",
       "      <th>User</th>\n",
       "      <th>Card</th>\n",
       "      <th>Year</th>\n",
       "      <th>Month</th>\n",
       "      <th>Day</th>\n",
       "      <th>Time</th>\n",
       "      <th>Amount</th>\n",
       "      <th>Use Chip</th>\n",
       "      <th>Merchant Name</th>\n",
       "      <th>Merchant City</th>\n",
       "      <th>Merchant State</th>\n",
       "      <th>Zip</th>\n",
       "      <th>MCC</th>\n",
       "      <th>Errors?</th>\n",
       "      <th>Is Fraud?</th>\n",
       "      <th>hour</th>\n",
       "      <th>Merchant Country</th>\n",
       "    </tr>\n",
       "  </thead>\n",
       "  <tbody>\n",
       "    <tr>\n",
       "      <th>11</th>\n",
       "      <td>0</td>\n",
       "      <td>0</td>\n",
       "      <td>2002</td>\n",
       "      <td>9</td>\n",
       "      <td>5</td>\n",
       "      <td>20:41</td>\n",
       "      <td>53.91</td>\n",
       "      <td>Online Transaction</td>\n",
       "      <td>-9092677072201095172</td>\n",
       "      <td>ONLINE</td>\n",
       "      <td>NaN</td>\n",
       "      <td>0</td>\n",
       "      <td>4900</td>\n",
       "      <td>NaN</td>\n",
       "      <td>No</td>\n",
       "      <td>20</td>\n",
       "      <td>NaN</td>\n",
       "    </tr>\n",
       "    <tr>\n",
       "      <th>24</th>\n",
       "      <td>0</td>\n",
       "      <td>0</td>\n",
       "      <td>2002</td>\n",
       "      <td>9</td>\n",
       "      <td>9</td>\n",
       "      <td>20:02</td>\n",
       "      <td>144.90</td>\n",
       "      <td>Online Transaction</td>\n",
       "      <td>-8338381919281017248</td>\n",
       "      <td>ONLINE</td>\n",
       "      <td>NaN</td>\n",
       "      <td>0</td>\n",
       "      <td>4899</td>\n",
       "      <td>NaN</td>\n",
       "      <td>No</td>\n",
       "      <td>20</td>\n",
       "      <td>NaN</td>\n",
       "    </tr>\n",
       "    <tr>\n",
       "      <th>85</th>\n",
       "      <td>0</td>\n",
       "      <td>0</td>\n",
       "      <td>2002</td>\n",
       "      <td>9</td>\n",
       "      <td>30</td>\n",
       "      <td>06:21</td>\n",
       "      <td>127.32</td>\n",
       "      <td>Online Transaction</td>\n",
       "      <td>-7421093378627544099</td>\n",
       "      <td>ONLINE</td>\n",
       "      <td>NaN</td>\n",
       "      <td>0</td>\n",
       "      <td>5311</td>\n",
       "      <td>NaN</td>\n",
       "      <td>No</td>\n",
       "      <td>6</td>\n",
       "      <td>NaN</td>\n",
       "    </tr>\n",
       "    <tr>\n",
       "      <th>99</th>\n",
       "      <td>0</td>\n",
       "      <td>0</td>\n",
       "      <td>2002</td>\n",
       "      <td>10</td>\n",
       "      <td>6</td>\n",
       "      <td>06:14</td>\n",
       "      <td>139.39</td>\n",
       "      <td>Online Transaction</td>\n",
       "      <td>-7421093378627544099</td>\n",
       "      <td>ONLINE</td>\n",
       "      <td>NaN</td>\n",
       "      <td>0</td>\n",
       "      <td>5311</td>\n",
       "      <td>NaN</td>\n",
       "      <td>No</td>\n",
       "      <td>6</td>\n",
       "      <td>NaN</td>\n",
       "    </tr>\n",
       "    <tr>\n",
       "      <th>106</th>\n",
       "      <td>0</td>\n",
       "      <td>0</td>\n",
       "      <td>2002</td>\n",
       "      <td>10</td>\n",
       "      <td>9</td>\n",
       "      <td>08:16</td>\n",
       "      <td>53.09</td>\n",
       "      <td>Online Transaction</td>\n",
       "      <td>-4956618006720593695</td>\n",
       "      <td>ONLINE</td>\n",
       "      <td>NaN</td>\n",
       "      <td>0</td>\n",
       "      <td>5193</td>\n",
       "      <td>NaN</td>\n",
       "      <td>No</td>\n",
       "      <td>8</td>\n",
       "      <td>NaN</td>\n",
       "    </tr>\n",
       "    <tr>\n",
       "      <th>...</th>\n",
       "      <td>...</td>\n",
       "      <td>...</td>\n",
       "      <td>...</td>\n",
       "      <td>...</td>\n",
       "      <td>...</td>\n",
       "      <td>...</td>\n",
       "      <td>...</td>\n",
       "      <td>...</td>\n",
       "      <td>...</td>\n",
       "      <td>...</td>\n",
       "      <td>...</td>\n",
       "      <td>...</td>\n",
       "      <td>...</td>\n",
       "      <td>...</td>\n",
       "      <td>...</td>\n",
       "      <td>...</td>\n",
       "      <td>...</td>\n",
       "    </tr>\n",
       "    <tr>\n",
       "      <th>24386877</th>\n",
       "      <td>1999</td>\n",
       "      <td>1</td>\n",
       "      <td>2020</td>\n",
       "      <td>2</td>\n",
       "      <td>24</td>\n",
       "      <td>20:04</td>\n",
       "      <td>55.79</td>\n",
       "      <td>Online Transaction</td>\n",
       "      <td>-6160036380778658394</td>\n",
       "      <td>ONLINE</td>\n",
       "      <td>NaN</td>\n",
       "      <td>0</td>\n",
       "      <td>4121</td>\n",
       "      <td>NaN</td>\n",
       "      <td>No</td>\n",
       "      <td>20</td>\n",
       "      <td>NaN</td>\n",
       "    </tr>\n",
       "    <tr>\n",
       "      <th>24386879</th>\n",
       "      <td>1999</td>\n",
       "      <td>1</td>\n",
       "      <td>2020</td>\n",
       "      <td>2</td>\n",
       "      <td>25</td>\n",
       "      <td>07:06</td>\n",
       "      <td>43.08</td>\n",
       "      <td>Online Transaction</td>\n",
       "      <td>-6160036380778658394</td>\n",
       "      <td>ONLINE</td>\n",
       "      <td>NaN</td>\n",
       "      <td>0</td>\n",
       "      <td>4121</td>\n",
       "      <td>NaN</td>\n",
       "      <td>No</td>\n",
       "      <td>7</td>\n",
       "      <td>NaN</td>\n",
       "    </tr>\n",
       "    <tr>\n",
       "      <th>24386880</th>\n",
       "      <td>1999</td>\n",
       "      <td>1</td>\n",
       "      <td>2020</td>\n",
       "      <td>2</td>\n",
       "      <td>25</td>\n",
       "      <td>07:34</td>\n",
       "      <td>43.76</td>\n",
       "      <td>Online Transaction</td>\n",
       "      <td>-6160036380778658394</td>\n",
       "      <td>ONLINE</td>\n",
       "      <td>NaN</td>\n",
       "      <td>0</td>\n",
       "      <td>4121</td>\n",
       "      <td>NaN</td>\n",
       "      <td>No</td>\n",
       "      <td>7</td>\n",
       "      <td>NaN</td>\n",
       "    </tr>\n",
       "    <tr>\n",
       "      <th>24386884</th>\n",
       "      <td>1999</td>\n",
       "      <td>1</td>\n",
       "      <td>2020</td>\n",
       "      <td>2</td>\n",
       "      <td>26</td>\n",
       "      <td>07:43</td>\n",
       "      <td>45.18</td>\n",
       "      <td>Online Transaction</td>\n",
       "      <td>-6160036380778658394</td>\n",
       "      <td>ONLINE</td>\n",
       "      <td>NaN</td>\n",
       "      <td>0</td>\n",
       "      <td>4121</td>\n",
       "      <td>NaN</td>\n",
       "      <td>No</td>\n",
       "      <td>7</td>\n",
       "      <td>NaN</td>\n",
       "    </tr>\n",
       "    <tr>\n",
       "      <th>24386889</th>\n",
       "      <td>1999</td>\n",
       "      <td>1</td>\n",
       "      <td>2020</td>\n",
       "      <td>2</td>\n",
       "      <td>27</td>\n",
       "      <td>07:47</td>\n",
       "      <td>47.18</td>\n",
       "      <td>Online Transaction</td>\n",
       "      <td>-5841929396161652653</td>\n",
       "      <td>ONLINE</td>\n",
       "      <td>NaN</td>\n",
       "      <td>0</td>\n",
       "      <td>4121</td>\n",
       "      <td>NaN</td>\n",
       "      <td>No</td>\n",
       "      <td>7</td>\n",
       "      <td>NaN</td>\n",
       "    </tr>\n",
       "  </tbody>\n",
       "</table>\n",
       "<p>2720821 rows × 17 columns</p>\n",
       "</div>"
      ],
      "text/plain": [
       "          User  Card  Year  Month  Day   Time  Amount            Use Chip  \\\n",
       "11           0     0  2002      9    5  20:41   53.91  Online Transaction   \n",
       "24           0     0  2002      9    9  20:02  144.90  Online Transaction   \n",
       "85           0     0  2002      9   30  06:21  127.32  Online Transaction   \n",
       "99           0     0  2002     10    6  06:14  139.39  Online Transaction   \n",
       "106          0     0  2002     10    9  08:16   53.09  Online Transaction   \n",
       "...        ...   ...   ...    ...  ...    ...     ...                 ...   \n",
       "24386877  1999     1  2020      2   24  20:04   55.79  Online Transaction   \n",
       "24386879  1999     1  2020      2   25  07:06   43.08  Online Transaction   \n",
       "24386880  1999     1  2020      2   25  07:34   43.76  Online Transaction   \n",
       "24386884  1999     1  2020      2   26  07:43   45.18  Online Transaction   \n",
       "24386889  1999     1  2020      2   27  07:47   47.18  Online Transaction   \n",
       "\n",
       "                Merchant Name Merchant City Merchant State  Zip   MCC Errors?  \\\n",
       "11       -9092677072201095172        ONLINE            NaN    0  4900     NaN   \n",
       "24       -8338381919281017248        ONLINE            NaN    0  4899     NaN   \n",
       "85       -7421093378627544099        ONLINE            NaN    0  5311     NaN   \n",
       "99       -7421093378627544099        ONLINE            NaN    0  5311     NaN   \n",
       "106      -4956618006720593695        ONLINE            NaN    0  5193     NaN   \n",
       "...                       ...           ...            ...  ...   ...     ...   \n",
       "24386877 -6160036380778658394        ONLINE            NaN    0  4121     NaN   \n",
       "24386879 -6160036380778658394        ONLINE            NaN    0  4121     NaN   \n",
       "24386880 -6160036380778658394        ONLINE            NaN    0  4121     NaN   \n",
       "24386884 -6160036380778658394        ONLINE            NaN    0  4121     NaN   \n",
       "24386889 -5841929396161652653        ONLINE            NaN    0  4121     NaN   \n",
       "\n",
       "         Is Fraud?  hour Merchant Country  \n",
       "11              No    20              NaN  \n",
       "24              No    20              NaN  \n",
       "85              No     6              NaN  \n",
       "99              No     6              NaN  \n",
       "106             No     8              NaN  \n",
       "...            ...   ...              ...  \n",
       "24386877        No    20              NaN  \n",
       "24386879        No     7              NaN  \n",
       "24386880        No     7              NaN  \n",
       "24386884        No     7              NaN  \n",
       "24386889        No     7              NaN  \n",
       "\n",
       "[2720821 rows x 17 columns]"
      ]
     },
     "execution_count": 59,
     "metadata": {},
     "output_type": "execute_result"
    }
   ],
   "source": [
    "data[data['Merchant State'].isna()]"
   ]
  },
  {
   "cell_type": "markdown",
   "metadata": {
    "id": "vfkgW1GQSOP8"
   },
   "source": [
    "### What kind of errors are there in the Error column "
   ]
  },
  {
   "cell_type": "code",
   "execution_count": null,
   "metadata": {
    "id": "Jhy1bV60SOP8",
    "outputId": "6a9ec9e4-e0c0-4e27-d000-8efa842d33e5"
   },
   "outputs": [
    {
     "data": {
      "text/plain": [
       "array([nan, 'Technical Glitch,', 'Insufficient Balance,', 'Bad PIN,',\n",
       "       'Bad PIN,Insufficient Balance,', 'Bad Expiration,',\n",
       "       'Bad PIN,Technical Glitch,', 'Bad Card Number,', 'Bad CVV,',\n",
       "       'Bad Zipcode,', 'Insufficient Balance,Technical Glitch,',\n",
       "       'Bad Card Number,Insufficient Balance,',\n",
       "       'Bad Card Number,Bad CVV,', 'Bad CVV,Insufficient Balance,',\n",
       "       'Bad Card Number,Bad Expiration,', 'Bad Expiration,Bad CVV,',\n",
       "       'Bad Expiration,Insufficient Balance,',\n",
       "       'Bad Expiration,Technical Glitch,',\n",
       "       'Bad Card Number,Bad Expiration,Technical Glitch,',\n",
       "       'Bad CVV,Technical Glitch,', 'Bad Card Number,Technical Glitch,',\n",
       "       'Bad Zipcode,Insufficient Balance,',\n",
       "       'Bad Zipcode,Technical Glitch,',\n",
       "       'Bad Card Number,Bad Expiration,Insufficient Balance,'],\n",
       "      dtype=object)"
      ]
     },
     "execution_count": 60,
     "metadata": {},
     "output_type": "execute_result"
    }
   ],
   "source": [
    "data['Errors?'].unique()"
   ]
  },
  {
   "cell_type": "code",
   "execution_count": null,
   "metadata": {
    "id": "S0csMv0JSOP8"
   },
   "outputs": [],
   "source": [
    "data_error_na = data[data['Errors?'].isna()]"
   ]
  },
  {
   "cell_type": "code",
   "execution_count": null,
   "metadata": {
    "id": "KjMy3GMDSOP8",
    "outputId": "4299edfd-9f71-4a4f-d236-d3b5f48ab09a"
   },
   "outputs": [
    {
     "data": {
      "text/plain": [
       "28471"
      ]
     },
     "execution_count": 62,
     "metadata": {},
     "output_type": "execute_result"
    }
   ],
   "source": [
    "len(data_error_na[data_error_na['Is Fraud?'] == \"Yes\"])"
   ]
  },
  {
   "cell_type": "markdown",
   "metadata": {
    "id": "-4T2UX_TSOP8"
   },
   "source": [
    "Error column contains many missing values and most of them are not directly relavant to the transaction being fraud or not as many error value being null is related to the transaction being legitimate. "
   ]
  },
  {
   "cell_type": "code",
   "execution_count": null,
   "metadata": {
    "id": "OK-PYxGqSOP8",
    "outputId": "7b152e70-b124-49cf-d801-224e7607a36c"
   },
   "outputs": [
    {
     "data": {
      "text/html": [
       "<div>\n",
       "<style scoped>\n",
       "    .dataframe tbody tr th:only-of-type {\n",
       "        vertical-align: middle;\n",
       "    }\n",
       "\n",
       "    .dataframe tbody tr th {\n",
       "        vertical-align: top;\n",
       "    }\n",
       "\n",
       "    .dataframe thead th {\n",
       "        text-align: right;\n",
       "    }\n",
       "</style>\n",
       "<table border=\"1\" class=\"dataframe\">\n",
       "  <thead>\n",
       "    <tr style=\"text-align: right;\">\n",
       "      <th></th>\n",
       "      <th>User</th>\n",
       "      <th>Card</th>\n",
       "      <th>Year</th>\n",
       "      <th>Month</th>\n",
       "      <th>Day</th>\n",
       "      <th>Time</th>\n",
       "      <th>Amount</th>\n",
       "      <th>Use Chip</th>\n",
       "      <th>Merchant Name</th>\n",
       "      <th>Merchant City</th>\n",
       "      <th>Merchant State</th>\n",
       "      <th>Zip</th>\n",
       "      <th>MCC</th>\n",
       "      <th>Is Fraud?</th>\n",
       "      <th>hour</th>\n",
       "      <th>Merchant Country</th>\n",
       "    </tr>\n",
       "    <tr>\n",
       "      <th>Errors?</th>\n",
       "      <th></th>\n",
       "      <th></th>\n",
       "      <th></th>\n",
       "      <th></th>\n",
       "      <th></th>\n",
       "      <th></th>\n",
       "      <th></th>\n",
       "      <th></th>\n",
       "      <th></th>\n",
       "      <th></th>\n",
       "      <th></th>\n",
       "      <th></th>\n",
       "      <th></th>\n",
       "      <th></th>\n",
       "      <th></th>\n",
       "      <th></th>\n",
       "    </tr>\n",
       "  </thead>\n",
       "  <tbody>\n",
       "    <tr>\n",
       "      <th>Bad CVV,</th>\n",
       "      <td>280</td>\n",
       "      <td>280</td>\n",
       "      <td>280</td>\n",
       "      <td>280</td>\n",
       "      <td>280</td>\n",
       "      <td>280</td>\n",
       "      <td>280</td>\n",
       "      <td>280</td>\n",
       "      <td>280</td>\n",
       "      <td>280</td>\n",
       "      <td>0</td>\n",
       "      <td>280</td>\n",
       "      <td>280</td>\n",
       "      <td>280</td>\n",
       "      <td>280</td>\n",
       "      <td>0</td>\n",
       "    </tr>\n",
       "    <tr>\n",
       "      <th>Bad CVV,Insufficient Balance,</th>\n",
       "      <td>4</td>\n",
       "      <td>4</td>\n",
       "      <td>4</td>\n",
       "      <td>4</td>\n",
       "      <td>4</td>\n",
       "      <td>4</td>\n",
       "      <td>4</td>\n",
       "      <td>4</td>\n",
       "      <td>4</td>\n",
       "      <td>4</td>\n",
       "      <td>0</td>\n",
       "      <td>4</td>\n",
       "      <td>4</td>\n",
       "      <td>4</td>\n",
       "      <td>4</td>\n",
       "      <td>0</td>\n",
       "    </tr>\n",
       "    <tr>\n",
       "      <th>Bad CVV,Technical Glitch,</th>\n",
       "      <td>1</td>\n",
       "      <td>1</td>\n",
       "      <td>1</td>\n",
       "      <td>1</td>\n",
       "      <td>1</td>\n",
       "      <td>1</td>\n",
       "      <td>1</td>\n",
       "      <td>1</td>\n",
       "      <td>1</td>\n",
       "      <td>1</td>\n",
       "      <td>0</td>\n",
       "      <td>1</td>\n",
       "      <td>1</td>\n",
       "      <td>1</td>\n",
       "      <td>1</td>\n",
       "      <td>0</td>\n",
       "    </tr>\n",
       "    <tr>\n",
       "      <th>Bad Card Number,</th>\n",
       "      <td>105</td>\n",
       "      <td>105</td>\n",
       "      <td>105</td>\n",
       "      <td>105</td>\n",
       "      <td>105</td>\n",
       "      <td>105</td>\n",
       "      <td>105</td>\n",
       "      <td>105</td>\n",
       "      <td>105</td>\n",
       "      <td>105</td>\n",
       "      <td>0</td>\n",
       "      <td>105</td>\n",
       "      <td>105</td>\n",
       "      <td>105</td>\n",
       "      <td>105</td>\n",
       "      <td>0</td>\n",
       "    </tr>\n",
       "    <tr>\n",
       "      <th>Bad Card Number,Insufficient Balance,</th>\n",
       "      <td>2</td>\n",
       "      <td>2</td>\n",
       "      <td>2</td>\n",
       "      <td>2</td>\n",
       "      <td>2</td>\n",
       "      <td>2</td>\n",
       "      <td>2</td>\n",
       "      <td>2</td>\n",
       "      <td>2</td>\n",
       "      <td>2</td>\n",
       "      <td>0</td>\n",
       "      <td>2</td>\n",
       "      <td>2</td>\n",
       "      <td>2</td>\n",
       "      <td>2</td>\n",
       "      <td>0</td>\n",
       "    </tr>\n",
       "    <tr>\n",
       "      <th>Bad Expiration,</th>\n",
       "      <td>120</td>\n",
       "      <td>120</td>\n",
       "      <td>120</td>\n",
       "      <td>120</td>\n",
       "      <td>120</td>\n",
       "      <td>120</td>\n",
       "      <td>120</td>\n",
       "      <td>120</td>\n",
       "      <td>120</td>\n",
       "      <td>120</td>\n",
       "      <td>0</td>\n",
       "      <td>120</td>\n",
       "      <td>120</td>\n",
       "      <td>120</td>\n",
       "      <td>120</td>\n",
       "      <td>0</td>\n",
       "    </tr>\n",
       "    <tr>\n",
       "      <th>Bad Expiration,Bad CVV,</th>\n",
       "      <td>2</td>\n",
       "      <td>2</td>\n",
       "      <td>2</td>\n",
       "      <td>2</td>\n",
       "      <td>2</td>\n",
       "      <td>2</td>\n",
       "      <td>2</td>\n",
       "      <td>2</td>\n",
       "      <td>2</td>\n",
       "      <td>2</td>\n",
       "      <td>0</td>\n",
       "      <td>2</td>\n",
       "      <td>2</td>\n",
       "      <td>2</td>\n",
       "      <td>2</td>\n",
       "      <td>0</td>\n",
       "    </tr>\n",
       "    <tr>\n",
       "      <th>Bad Expiration,Insufficient Balance,</th>\n",
       "      <td>1</td>\n",
       "      <td>1</td>\n",
       "      <td>1</td>\n",
       "      <td>1</td>\n",
       "      <td>1</td>\n",
       "      <td>1</td>\n",
       "      <td>1</td>\n",
       "      <td>1</td>\n",
       "      <td>1</td>\n",
       "      <td>1</td>\n",
       "      <td>0</td>\n",
       "      <td>1</td>\n",
       "      <td>1</td>\n",
       "      <td>1</td>\n",
       "      <td>1</td>\n",
       "      <td>0</td>\n",
       "    </tr>\n",
       "    <tr>\n",
       "      <th>Bad Expiration,Technical Glitch,</th>\n",
       "      <td>2</td>\n",
       "      <td>2</td>\n",
       "      <td>2</td>\n",
       "      <td>2</td>\n",
       "      <td>2</td>\n",
       "      <td>2</td>\n",
       "      <td>2</td>\n",
       "      <td>2</td>\n",
       "      <td>2</td>\n",
       "      <td>2</td>\n",
       "      <td>0</td>\n",
       "      <td>2</td>\n",
       "      <td>2</td>\n",
       "      <td>2</td>\n",
       "      <td>2</td>\n",
       "      <td>0</td>\n",
       "    </tr>\n",
       "    <tr>\n",
       "      <th>Bad PIN,</th>\n",
       "      <td>302</td>\n",
       "      <td>302</td>\n",
       "      <td>302</td>\n",
       "      <td>302</td>\n",
       "      <td>302</td>\n",
       "      <td>302</td>\n",
       "      <td>302</td>\n",
       "      <td>302</td>\n",
       "      <td>302</td>\n",
       "      <td>302</td>\n",
       "      <td>302</td>\n",
       "      <td>302</td>\n",
       "      <td>302</td>\n",
       "      <td>302</td>\n",
       "      <td>302</td>\n",
       "      <td>302</td>\n",
       "    </tr>\n",
       "    <tr>\n",
       "      <th>Bad PIN,Insufficient Balance,</th>\n",
       "      <td>7</td>\n",
       "      <td>7</td>\n",
       "      <td>7</td>\n",
       "      <td>7</td>\n",
       "      <td>7</td>\n",
       "      <td>7</td>\n",
       "      <td>7</td>\n",
       "      <td>7</td>\n",
       "      <td>7</td>\n",
       "      <td>7</td>\n",
       "      <td>7</td>\n",
       "      <td>7</td>\n",
       "      <td>7</td>\n",
       "      <td>7</td>\n",
       "      <td>7</td>\n",
       "      <td>7</td>\n",
       "    </tr>\n",
       "    <tr>\n",
       "      <th>Bad PIN,Technical Glitch,</th>\n",
       "      <td>1</td>\n",
       "      <td>1</td>\n",
       "      <td>1</td>\n",
       "      <td>1</td>\n",
       "      <td>1</td>\n",
       "      <td>1</td>\n",
       "      <td>1</td>\n",
       "      <td>1</td>\n",
       "      <td>1</td>\n",
       "      <td>1</td>\n",
       "      <td>1</td>\n",
       "      <td>1</td>\n",
       "      <td>1</td>\n",
       "      <td>1</td>\n",
       "      <td>1</td>\n",
       "      <td>1</td>\n",
       "    </tr>\n",
       "    <tr>\n",
       "      <th>Insufficient Balance,</th>\n",
       "      <td>396</td>\n",
       "      <td>396</td>\n",
       "      <td>396</td>\n",
       "      <td>396</td>\n",
       "      <td>396</td>\n",
       "      <td>396</td>\n",
       "      <td>396</td>\n",
       "      <td>396</td>\n",
       "      <td>396</td>\n",
       "      <td>396</td>\n",
       "      <td>143</td>\n",
       "      <td>396</td>\n",
       "      <td>396</td>\n",
       "      <td>396</td>\n",
       "      <td>396</td>\n",
       "      <td>143</td>\n",
       "    </tr>\n",
       "    <tr>\n",
       "      <th>Technical Glitch,</th>\n",
       "      <td>63</td>\n",
       "      <td>63</td>\n",
       "      <td>63</td>\n",
       "      <td>63</td>\n",
       "      <td>63</td>\n",
       "      <td>63</td>\n",
       "      <td>63</td>\n",
       "      <td>63</td>\n",
       "      <td>63</td>\n",
       "      <td>63</td>\n",
       "      <td>26</td>\n",
       "      <td>63</td>\n",
       "      <td>63</td>\n",
       "      <td>63</td>\n",
       "      <td>63</td>\n",
       "      <td>26</td>\n",
       "    </tr>\n",
       "  </tbody>\n",
       "</table>\n",
       "</div>"
      ],
      "text/plain": [
       "                                       User  Card  Year  Month  Day  Time  \\\n",
       "Errors?                                                                     \n",
       "Bad CVV,                                280   280   280    280  280   280   \n",
       "Bad CVV,Insufficient Balance,             4     4     4      4    4     4   \n",
       "Bad CVV,Technical Glitch,                 1     1     1      1    1     1   \n",
       "Bad Card Number,                        105   105   105    105  105   105   \n",
       "Bad Card Number,Insufficient Balance,     2     2     2      2    2     2   \n",
       "Bad Expiration,                         120   120   120    120  120   120   \n",
       "Bad Expiration,Bad CVV,                   2     2     2      2    2     2   \n",
       "Bad Expiration,Insufficient Balance,      1     1     1      1    1     1   \n",
       "Bad Expiration,Technical Glitch,          2     2     2      2    2     2   \n",
       "Bad PIN,                                302   302   302    302  302   302   \n",
       "Bad PIN,Insufficient Balance,             7     7     7      7    7     7   \n",
       "Bad PIN,Technical Glitch,                 1     1     1      1    1     1   \n",
       "Insufficient Balance,                   396   396   396    396  396   396   \n",
       "Technical Glitch,                        63    63    63     63   63    63   \n",
       "\n",
       "                                       Amount  Use Chip  Merchant Name  \\\n",
       "Errors?                                                                  \n",
       "Bad CVV,                                  280       280            280   \n",
       "Bad CVV,Insufficient Balance,               4         4              4   \n",
       "Bad CVV,Technical Glitch,                   1         1              1   \n",
       "Bad Card Number,                          105       105            105   \n",
       "Bad Card Number,Insufficient Balance,       2         2              2   \n",
       "Bad Expiration,                           120       120            120   \n",
       "Bad Expiration,Bad CVV,                     2         2              2   \n",
       "Bad Expiration,Insufficient Balance,        1         1              1   \n",
       "Bad Expiration,Technical Glitch,            2         2              2   \n",
       "Bad PIN,                                  302       302            302   \n",
       "Bad PIN,Insufficient Balance,               7         7              7   \n",
       "Bad PIN,Technical Glitch,                   1         1              1   \n",
       "Insufficient Balance,                     396       396            396   \n",
       "Technical Glitch,                          63        63             63   \n",
       "\n",
       "                                       Merchant City  Merchant State  Zip  \\\n",
       "Errors?                                                                     \n",
       "Bad CVV,                                         280               0  280   \n",
       "Bad CVV,Insufficient Balance,                      4               0    4   \n",
       "Bad CVV,Technical Glitch,                          1               0    1   \n",
       "Bad Card Number,                                 105               0  105   \n",
       "Bad Card Number,Insufficient Balance,              2               0    2   \n",
       "Bad Expiration,                                  120               0  120   \n",
       "Bad Expiration,Bad CVV,                            2               0    2   \n",
       "Bad Expiration,Insufficient Balance,               1               0    1   \n",
       "Bad Expiration,Technical Glitch,                   2               0    2   \n",
       "Bad PIN,                                         302             302  302   \n",
       "Bad PIN,Insufficient Balance,                      7               7    7   \n",
       "Bad PIN,Technical Glitch,                          1               1    1   \n",
       "Insufficient Balance,                            396             143  396   \n",
       "Technical Glitch,                                 63              26   63   \n",
       "\n",
       "                                       MCC  Is Fraud?  hour  Merchant Country  \n",
       "Errors?                                                                        \n",
       "Bad CVV,                               280        280   280                 0  \n",
       "Bad CVV,Insufficient Balance,            4          4     4                 0  \n",
       "Bad CVV,Technical Glitch,                1          1     1                 0  \n",
       "Bad Card Number,                       105        105   105                 0  \n",
       "Bad Card Number,Insufficient Balance,    2          2     2                 0  \n",
       "Bad Expiration,                        120        120   120                 0  \n",
       "Bad Expiration,Bad CVV,                  2          2     2                 0  \n",
       "Bad Expiration,Insufficient Balance,     1          1     1                 0  \n",
       "Bad Expiration,Technical Glitch,         2          2     2                 0  \n",
       "Bad PIN,                               302        302   302               302  \n",
       "Bad PIN,Insufficient Balance,            7          7     7                 7  \n",
       "Bad PIN,Technical Glitch,                1          1     1                 1  \n",
       "Insufficient Balance,                  396        396   396               143  \n",
       "Technical Glitch,                       63         63    63                26  "
      ]
     },
     "execution_count": 64,
     "metadata": {},
     "output_type": "execute_result"
    }
   ],
   "source": [
    "data[data['Is Fraud?'] == \"Yes\"].groupby('Errors?').count()"
   ]
  },
  {
   "cell_type": "markdown",
   "metadata": {
    "id": "mrvIA23_SOP8"
   },
   "source": [
    "### Impute missing value of merchant state and merchant country "
   ]
  },
  {
   "cell_type": "code",
   "execution_count": null,
   "metadata": {
    "id": "rlgY4cmPSOP8"
   },
   "outputs": [],
   "source": [
    "data['Merchant State'] = data['Merchant State'].fillna('ONLINE')"
   ]
  },
  {
   "cell_type": "code",
   "execution_count": null,
   "metadata": {
    "id": "9ObPEXcZSOP8"
   },
   "outputs": [],
   "source": [
    "data['Merchant Country'] = data['Merchant Country'].fillna('ONLINE')"
   ]
  },
  {
   "cell_type": "code",
   "execution_count": null,
   "metadata": {
    "id": "VbJ34NmTSOP8",
    "outputId": "3ba39da0-f9e0-4419-be0b-517a3a1db855"
   },
   "outputs": [
    {
     "data": {
      "text/html": [
       "<div>\n",
       "<style scoped>\n",
       "    .dataframe tbody tr th:only-of-type {\n",
       "        vertical-align: middle;\n",
       "    }\n",
       "\n",
       "    .dataframe tbody tr th {\n",
       "        vertical-align: top;\n",
       "    }\n",
       "\n",
       "    .dataframe thead th {\n",
       "        text-align: right;\n",
       "    }\n",
       "</style>\n",
       "<table border=\"1\" class=\"dataframe\">\n",
       "  <thead>\n",
       "    <tr style=\"text-align: right;\">\n",
       "      <th></th>\n",
       "      <th>User</th>\n",
       "      <th>Card</th>\n",
       "      <th>Year</th>\n",
       "      <th>Month</th>\n",
       "      <th>Day</th>\n",
       "      <th>Time</th>\n",
       "      <th>Amount</th>\n",
       "      <th>Use Chip</th>\n",
       "      <th>Merchant Name</th>\n",
       "      <th>Merchant City</th>\n",
       "      <th>Merchant State</th>\n",
       "      <th>Zip</th>\n",
       "      <th>MCC</th>\n",
       "      <th>Errors?</th>\n",
       "      <th>Is Fraud?</th>\n",
       "      <th>hour</th>\n",
       "      <th>Merchant Country</th>\n",
       "    </tr>\n",
       "  </thead>\n",
       "  <tbody>\n",
       "    <tr>\n",
       "      <th>4099</th>\n",
       "      <td>0</td>\n",
       "      <td>0</td>\n",
       "      <td>2015</td>\n",
       "      <td>11</td>\n",
       "      <td>15</td>\n",
       "      <td>12:55</td>\n",
       "      <td>287.13</td>\n",
       "      <td>Online Transaction</td>\n",
       "      <td>-8194607650924472520</td>\n",
       "      <td>ONLINE</td>\n",
       "      <td>ONLINE</td>\n",
       "      <td>0</td>\n",
       "      <td>3001</td>\n",
       "      <td>NaN</td>\n",
       "      <td>Yes</td>\n",
       "      <td>12</td>\n",
       "      <td>ONLINE</td>\n",
       "    </tr>\n",
       "    <tr>\n",
       "      <th>4100</th>\n",
       "      <td>0</td>\n",
       "      <td>0</td>\n",
       "      <td>2015</td>\n",
       "      <td>11</td>\n",
       "      <td>15</td>\n",
       "      <td>13:19</td>\n",
       "      <td>2.41</td>\n",
       "      <td>Online Transaction</td>\n",
       "      <td>-7759074308363763111</td>\n",
       "      <td>ONLINE</td>\n",
       "      <td>ONLINE</td>\n",
       "      <td>0</td>\n",
       "      <td>5651</td>\n",
       "      <td>NaN</td>\n",
       "      <td>Yes</td>\n",
       "      <td>13</td>\n",
       "      <td>ONLINE</td>\n",
       "    </tr>\n",
       "    <tr>\n",
       "      <th>4101</th>\n",
       "      <td>0</td>\n",
       "      <td>0</td>\n",
       "      <td>2015</td>\n",
       "      <td>11</td>\n",
       "      <td>16</td>\n",
       "      <td>09:41</td>\n",
       "      <td>50.81</td>\n",
       "      <td>Online Transaction</td>\n",
       "      <td>-551332107213382088</td>\n",
       "      <td>ONLINE</td>\n",
       "      <td>ONLINE</td>\n",
       "      <td>0</td>\n",
       "      <td>4411</td>\n",
       "      <td>NaN</td>\n",
       "      <td>Yes</td>\n",
       "      <td>9</td>\n",
       "      <td>ONLINE</td>\n",
       "    </tr>\n",
       "    <tr>\n",
       "      <th>4102</th>\n",
       "      <td>0</td>\n",
       "      <td>0</td>\n",
       "      <td>2015</td>\n",
       "      <td>11</td>\n",
       "      <td>16</td>\n",
       "      <td>09:46</td>\n",
       "      <td>248.36</td>\n",
       "      <td>Online Transaction</td>\n",
       "      <td>4872340518840476610</td>\n",
       "      <td>ONLINE</td>\n",
       "      <td>ONLINE</td>\n",
       "      <td>0</td>\n",
       "      <td>5732</td>\n",
       "      <td>NaN</td>\n",
       "      <td>Yes</td>\n",
       "      <td>9</td>\n",
       "      <td>ONLINE</td>\n",
       "    </tr>\n",
       "    <tr>\n",
       "      <th>4103</th>\n",
       "      <td>0</td>\n",
       "      <td>0</td>\n",
       "      <td>2015</td>\n",
       "      <td>11</td>\n",
       "      <td>16</td>\n",
       "      <td>11:20</td>\n",
       "      <td>473.00</td>\n",
       "      <td>Online Transaction</td>\n",
       "      <td>-8566951830324093739</td>\n",
       "      <td>ONLINE</td>\n",
       "      <td>ONLINE</td>\n",
       "      <td>0</td>\n",
       "      <td>3640</td>\n",
       "      <td>NaN</td>\n",
       "      <td>Yes</td>\n",
       "      <td>11</td>\n",
       "      <td>ONLINE</td>\n",
       "    </tr>\n",
       "    <tr>\n",
       "      <th>...</th>\n",
       "      <td>...</td>\n",
       "      <td>...</td>\n",
       "      <td>...</td>\n",
       "      <td>...</td>\n",
       "      <td>...</td>\n",
       "      <td>...</td>\n",
       "      <td>...</td>\n",
       "      <td>...</td>\n",
       "      <td>...</td>\n",
       "      <td>...</td>\n",
       "      <td>...</td>\n",
       "      <td>...</td>\n",
       "      <td>...</td>\n",
       "      <td>...</td>\n",
       "      <td>...</td>\n",
       "      <td>...</td>\n",
       "      <td>...</td>\n",
       "    </tr>\n",
       "    <tr>\n",
       "      <th>24375668</th>\n",
       "      <td>1997</td>\n",
       "      <td>2</td>\n",
       "      <td>2016</td>\n",
       "      <td>9</td>\n",
       "      <td>4</td>\n",
       "      <td>10:45</td>\n",
       "      <td>1.25</td>\n",
       "      <td>Online Transaction</td>\n",
       "      <td>6455213054093379528</td>\n",
       "      <td>ONLINE</td>\n",
       "      <td>ONLINE</td>\n",
       "      <td>0</td>\n",
       "      <td>5815</td>\n",
       "      <td>NaN</td>\n",
       "      <td>Yes</td>\n",
       "      <td>10</td>\n",
       "      <td>ONLINE</td>\n",
       "    </tr>\n",
       "    <tr>\n",
       "      <th>24375670</th>\n",
       "      <td>1997</td>\n",
       "      <td>2</td>\n",
       "      <td>2016</td>\n",
       "      <td>9</td>\n",
       "      <td>4</td>\n",
       "      <td>12:30</td>\n",
       "      <td>116.66</td>\n",
       "      <td>Online Transaction</td>\n",
       "      <td>822647939787511611</td>\n",
       "      <td>ONLINE</td>\n",
       "      <td>ONLINE</td>\n",
       "      <td>0</td>\n",
       "      <td>5311</td>\n",
       "      <td>NaN</td>\n",
       "      <td>Yes</td>\n",
       "      <td>12</td>\n",
       "      <td>ONLINE</td>\n",
       "    </tr>\n",
       "    <tr>\n",
       "      <th>24375671</th>\n",
       "      <td>1997</td>\n",
       "      <td>2</td>\n",
       "      <td>2016</td>\n",
       "      <td>9</td>\n",
       "      <td>4</td>\n",
       "      <td>12:40</td>\n",
       "      <td>359.99</td>\n",
       "      <td>Online Transaction</td>\n",
       "      <td>8080934608468946743</td>\n",
       "      <td>ONLINE</td>\n",
       "      <td>ONLINE</td>\n",
       "      <td>0</td>\n",
       "      <td>5310</td>\n",
       "      <td>NaN</td>\n",
       "      <td>Yes</td>\n",
       "      <td>12</td>\n",
       "      <td>ONLINE</td>\n",
       "    </tr>\n",
       "    <tr>\n",
       "      <th>24375672</th>\n",
       "      <td>1997</td>\n",
       "      <td>2</td>\n",
       "      <td>2016</td>\n",
       "      <td>9</td>\n",
       "      <td>4</td>\n",
       "      <td>13:45</td>\n",
       "      <td>351.51</td>\n",
       "      <td>Online Transaction</td>\n",
       "      <td>-4282466774399734331</td>\n",
       "      <td>ONLINE</td>\n",
       "      <td>ONLINE</td>\n",
       "      <td>0</td>\n",
       "      <td>4829</td>\n",
       "      <td>NaN</td>\n",
       "      <td>Yes</td>\n",
       "      <td>13</td>\n",
       "      <td>ONLINE</td>\n",
       "    </tr>\n",
       "    <tr>\n",
       "      <th>24375673</th>\n",
       "      <td>1997</td>\n",
       "      <td>2</td>\n",
       "      <td>2016</td>\n",
       "      <td>9</td>\n",
       "      <td>4</td>\n",
       "      <td>13:55</td>\n",
       "      <td>188.26</td>\n",
       "      <td>Online Transaction</td>\n",
       "      <td>3189517333335617109</td>\n",
       "      <td>ONLINE</td>\n",
       "      <td>ONLINE</td>\n",
       "      <td>0</td>\n",
       "      <td>5311</td>\n",
       "      <td>NaN</td>\n",
       "      <td>Yes</td>\n",
       "      <td>13</td>\n",
       "      <td>ONLINE</td>\n",
       "    </tr>\n",
       "  </tbody>\n",
       "</table>\n",
       "<p>29757 rows × 17 columns</p>\n",
       "</div>"
      ],
      "text/plain": [
       "          User  Card  Year  Month  Day   Time  Amount            Use Chip  \\\n",
       "4099         0     0  2015     11   15  12:55  287.13  Online Transaction   \n",
       "4100         0     0  2015     11   15  13:19    2.41  Online Transaction   \n",
       "4101         0     0  2015     11   16  09:41   50.81  Online Transaction   \n",
       "4102         0     0  2015     11   16  09:46  248.36  Online Transaction   \n",
       "4103         0     0  2015     11   16  11:20  473.00  Online Transaction   \n",
       "...        ...   ...   ...    ...  ...    ...     ...                 ...   \n",
       "24375668  1997     2  2016      9    4  10:45    1.25  Online Transaction   \n",
       "24375670  1997     2  2016      9    4  12:30  116.66  Online Transaction   \n",
       "24375671  1997     2  2016      9    4  12:40  359.99  Online Transaction   \n",
       "24375672  1997     2  2016      9    4  13:45  351.51  Online Transaction   \n",
       "24375673  1997     2  2016      9    4  13:55  188.26  Online Transaction   \n",
       "\n",
       "                Merchant Name Merchant City Merchant State  Zip   MCC Errors?  \\\n",
       "4099     -8194607650924472520        ONLINE         ONLINE    0  3001     NaN   \n",
       "4100     -7759074308363763111        ONLINE         ONLINE    0  5651     NaN   \n",
       "4101      -551332107213382088        ONLINE         ONLINE    0  4411     NaN   \n",
       "4102      4872340518840476610        ONLINE         ONLINE    0  5732     NaN   \n",
       "4103     -8566951830324093739        ONLINE         ONLINE    0  3640     NaN   \n",
       "...                       ...           ...            ...  ...   ...     ...   \n",
       "24375668  6455213054093379528        ONLINE         ONLINE    0  5815     NaN   \n",
       "24375670   822647939787511611        ONLINE         ONLINE    0  5311     NaN   \n",
       "24375671  8080934608468946743        ONLINE         ONLINE    0  5310     NaN   \n",
       "24375672 -4282466774399734331        ONLINE         ONLINE    0  4829     NaN   \n",
       "24375673  3189517333335617109        ONLINE         ONLINE    0  5311     NaN   \n",
       "\n",
       "         Is Fraud?  hour Merchant Country  \n",
       "4099           Yes    12           ONLINE  \n",
       "4100           Yes    13           ONLINE  \n",
       "4101           Yes     9           ONLINE  \n",
       "4102           Yes     9           ONLINE  \n",
       "4103           Yes    11           ONLINE  \n",
       "...            ...   ...              ...  \n",
       "24375668       Yes    10           ONLINE  \n",
       "24375670       Yes    12           ONLINE  \n",
       "24375671       Yes    12           ONLINE  \n",
       "24375672       Yes    13           ONLINE  \n",
       "24375673       Yes    13           ONLINE  \n",
       "\n",
       "[29757 rows x 17 columns]"
      ]
     },
     "execution_count": 67,
     "metadata": {},
     "output_type": "execute_result"
    }
   ],
   "source": [
    "data[data['Is Fraud?'] == \"Yes\"]"
   ]
  },
  {
   "cell_type": "markdown",
   "metadata": {
    "id": "kMzdw7UJSOP8"
   },
   "source": [
    "Drop Error and zip column \n",
    "user, Card and Merchant Name will not be useful in training ML models. "
   ]
  },
  {
   "cell_type": "code",
   "execution_count": null,
   "metadata": {
    "id": "y0cc1rqgSOP8"
   },
   "outputs": [],
   "source": [
    "data = data.drop(['Errors?', 'Zip', 'User', 'Card', 'Merchant Name', 'Time'], axis=1)"
   ]
  },
  {
   "cell_type": "code",
   "execution_count": null,
   "metadata": {
    "id": "oJFj2L2OSOP9"
   },
   "outputs": [],
   "source": [
    "data.head()"
   ]
  },
  {
   "cell_type": "markdown",
   "metadata": {
    "id": "eT7MVGQySOP9"
   },
   "source": [
    "### Convert categorical data to numeric data "
   ]
  },
  {
   "cell_type": "code",
   "execution_count": null,
   "metadata": {
    "id": "9WDczhQ5SOP9"
   },
   "outputs": [],
   "source": [
    "data.columns = ['Year', 'Month',\n",
    "             'Day',\n",
    "             'Amount',\n",
    "             'Use_Chip',\n",
    "             'Merchant_City',\n",
    "             'Merchant_State',\n",
    "             'MCC',\n",
    "             'IsFraud',\n",
    "             'Hour',\n",
    "             'Merchant_Country']"
   ]
  },
  {
   "cell_type": "code",
   "execution_count": null,
   "metadata": {
    "id": "EUnuSUG9SOP9",
    "outputId": "52f0de53-397d-4779-dd48-3c19d94ead29"
   },
   "outputs": [
    {
     "data": {
      "text/html": [
       "<div>\n",
       "<style scoped>\n",
       "    .dataframe tbody tr th:only-of-type {\n",
       "        vertical-align: middle;\n",
       "    }\n",
       "\n",
       "    .dataframe tbody tr th {\n",
       "        vertical-align: top;\n",
       "    }\n",
       "\n",
       "    .dataframe thead th {\n",
       "        text-align: right;\n",
       "    }\n",
       "</style>\n",
       "<table border=\"1\" class=\"dataframe\">\n",
       "  <thead>\n",
       "    <tr style=\"text-align: right;\">\n",
       "      <th></th>\n",
       "      <th>Year</th>\n",
       "      <th>Month</th>\n",
       "      <th>Day</th>\n",
       "      <th>Amount</th>\n",
       "      <th>Use_Chip</th>\n",
       "      <th>Merchant_City</th>\n",
       "      <th>Merchant_State</th>\n",
       "      <th>MCC</th>\n",
       "      <th>IsFraud</th>\n",
       "      <th>Hour</th>\n",
       "      <th>Merchant_Country</th>\n",
       "    </tr>\n",
       "  </thead>\n",
       "  <tbody>\n",
       "    <tr>\n",
       "      <th>0</th>\n",
       "      <td>2002</td>\n",
       "      <td>9</td>\n",
       "      <td>1</td>\n",
       "      <td>134.09</td>\n",
       "      <td>Swipe Transaction</td>\n",
       "      <td>La Verne</td>\n",
       "      <td>CA</td>\n",
       "      <td>5300</td>\n",
       "      <td>No</td>\n",
       "      <td>6</td>\n",
       "      <td>USA</td>\n",
       "    </tr>\n",
       "    <tr>\n",
       "      <th>1</th>\n",
       "      <td>2002</td>\n",
       "      <td>9</td>\n",
       "      <td>1</td>\n",
       "      <td>38.48</td>\n",
       "      <td>Swipe Transaction</td>\n",
       "      <td>Monterey Park</td>\n",
       "      <td>CA</td>\n",
       "      <td>5411</td>\n",
       "      <td>No</td>\n",
       "      <td>6</td>\n",
       "      <td>USA</td>\n",
       "    </tr>\n",
       "    <tr>\n",
       "      <th>2</th>\n",
       "      <td>2002</td>\n",
       "      <td>9</td>\n",
       "      <td>2</td>\n",
       "      <td>120.34</td>\n",
       "      <td>Swipe Transaction</td>\n",
       "      <td>Monterey Park</td>\n",
       "      <td>CA</td>\n",
       "      <td>5411</td>\n",
       "      <td>No</td>\n",
       "      <td>6</td>\n",
       "      <td>USA</td>\n",
       "    </tr>\n",
       "    <tr>\n",
       "      <th>3</th>\n",
       "      <td>2002</td>\n",
       "      <td>9</td>\n",
       "      <td>2</td>\n",
       "      <td>128.95</td>\n",
       "      <td>Swipe Transaction</td>\n",
       "      <td>Monterey Park</td>\n",
       "      <td>CA</td>\n",
       "      <td>5651</td>\n",
       "      <td>No</td>\n",
       "      <td>17</td>\n",
       "      <td>USA</td>\n",
       "    </tr>\n",
       "    <tr>\n",
       "      <th>4</th>\n",
       "      <td>2002</td>\n",
       "      <td>9</td>\n",
       "      <td>3</td>\n",
       "      <td>104.71</td>\n",
       "      <td>Swipe Transaction</td>\n",
       "      <td>La Verne</td>\n",
       "      <td>CA</td>\n",
       "      <td>5912</td>\n",
       "      <td>No</td>\n",
       "      <td>6</td>\n",
       "      <td>USA</td>\n",
       "    </tr>\n",
       "  </tbody>\n",
       "</table>\n",
       "</div>"
      ],
      "text/plain": [
       "   Year  Month  Day  Amount           Use_Chip  Merchant_City Merchant_State  \\\n",
       "0  2002      9    1  134.09  Swipe Transaction       La Verne             CA   \n",
       "1  2002      9    1   38.48  Swipe Transaction  Monterey Park             CA   \n",
       "2  2002      9    2  120.34  Swipe Transaction  Monterey Park             CA   \n",
       "3  2002      9    2  128.95  Swipe Transaction  Monterey Park             CA   \n",
       "4  2002      9    3  104.71  Swipe Transaction       La Verne             CA   \n",
       "\n",
       "    MCC IsFraud  Hour Merchant_Country  \n",
       "0  5300      No     6              USA  \n",
       "1  5411      No     6              USA  \n",
       "2  5411      No     6              USA  \n",
       "3  5651      No    17              USA  \n",
       "4  5912      No     6              USA  "
      ]
     },
     "execution_count": 70,
     "metadata": {},
     "output_type": "execute_result"
    }
   ],
   "source": [
    "data.head()"
   ]
  },
  {
   "cell_type": "code",
   "execution_count": null,
   "metadata": {
    "id": "Cv016cTaSOP9"
   },
   "outputs": [],
   "source": [
    "df = data.copy()"
   ]
  },
  {
   "cell_type": "code",
   "execution_count": null,
   "metadata": {
    "id": "RflEN7mCSOP9"
   },
   "outputs": [],
   "source": [
    "LE = LabelEncoder()\n",
    "\n",
    "df['Use_Chip'] = LE.fit_transform(df['Use_Chip'])\n",
    "df['Merchant_City'] = LE.fit_transform(df['Merchant_City'])\n",
    "df['Merchant_State'] = LE.fit_transform(df['Merchant_State'])\n",
    "df['Merchant_Country'] = LE.fit_transform(df['Merchant_Country'])"
   ]
  },
  {
   "cell_type": "code",
   "execution_count": null,
   "metadata": {
    "id": "Off6KYYlSOP9"
   },
   "outputs": [],
   "source": [
    "df['IsFraud'] = LE.fit_transform(df['IsFraud'])"
   ]
  },
  {
   "cell_type": "code",
   "execution_count": null,
   "metadata": {
    "id": "zmw6TBB5SOP9"
   },
   "outputs": [],
   "source": [
    "#df.head()"
   ]
  },
  {
   "cell_type": "code",
   "execution_count": null,
   "metadata": {
    "id": "-aTyIgsTSOP9"
   },
   "outputs": [],
   "source": [
    "df.to_csv('all_data_transaction_refined.csv',index=False)"
   ]
  },
  {
   "cell_type": "markdown",
   "metadata": {
    "id": "_Z91fZ5OSOP9"
   },
   "source": [
    "### Split the data in to train, validation and test data and save in the directory "
   ]
  },
  {
   "cell_type": "code",
   "execution_count": 3,
   "metadata": {
    "executionInfo": {
     "elapsed": 33280,
     "status": "ok",
     "timestamp": 1651103961327,
     "user": {
      "displayName": "Urja Mitulkumar Naik",
      "userId": "04396446318838917799"
     },
     "user_tz": 420
    },
    "id": "tTLLmSa-SOP9"
   },
   "outputs": [],
   "source": [
    "df = pd.read_csv(r'all_data_transaction_refined.csv')"
   ]
  },
  {
   "cell_type": "code",
   "execution_count": 4,
   "metadata": {
    "executionInfo": {
     "elapsed": 9228,
     "status": "ok",
     "timestamp": 1651103976172,
     "user": {
      "displayName": "Urja Mitulkumar Naik",
      "userId": "04396446318838917799"
     },
     "user_tz": 420
    },
    "id": "m6UW9DAmSOP9"
   },
   "outputs": [],
   "source": [
    "X = df.drop(['IsFraud'],axis=1)\n",
    "y = df.IsFraud\n",
    "X_train, X_test, y_train, y_test = train_test_split(X,y,random_state = 42)"
   ]
  },
  {
   "cell_type": "code",
   "execution_count": 5,
   "metadata": {
    "colab": {
     "base_uri": "https://localhost:8080/"
    },
    "executionInfo": {
     "elapsed": 258,
     "status": "ok",
     "timestamp": 1651103978420,
     "user": {
      "displayName": "Urja Mitulkumar Naik",
      "userId": "04396446318838917799"
     },
     "user_tz": 420
    },
    "id": "Z2t_KC5OSOP9",
    "outputId": "7bb8b23f-2b20-437e-a288-b7ae0ab00895"
   },
   "outputs": [
    {
     "data": {
      "text/plain": [
       "0    18267942\n",
       "1       22233\n",
       "Name: IsFraud, dtype: int64"
      ]
     },
     "execution_count": 5,
     "metadata": {},
     "output_type": "execute_result"
    }
   ],
   "source": [
    "y_train.value_counts()"
   ]
  },
  {
   "cell_type": "code",
   "execution_count": 6,
   "metadata": {
    "colab": {
     "base_uri": "https://localhost:8080/"
    },
    "executionInfo": {
     "elapsed": 222,
     "status": "ok",
     "timestamp": 1651103980877,
     "user": {
      "displayName": "Urja Mitulkumar Naik",
      "userId": "04396446318838917799"
     },
     "user_tz": 420
    },
    "id": "TwQDMIQbSOP9",
    "outputId": "ab025719-fdf4-4952-8b5a-4dd5278a0a68"
   },
   "outputs": [
    {
     "data": {
      "text/plain": [
       "0    24357143\n",
       "1       29757\n",
       "Name: IsFraud, dtype: int64"
      ]
     },
     "execution_count": 6,
     "metadata": {},
     "output_type": "execute_result"
    }
   ],
   "source": [
    "y.value_counts()"
   ]
  },
  {
   "cell_type": "markdown",
   "metadata": {
    "id": "-xI3Bc12SRwh"
   },
   "source": [
    "### Balance the test data set by downsampling the test data"
   ]
  },
  {
   "cell_type": "code",
   "execution_count": 7,
   "metadata": {
    "id": "HGUwJfqdSWlm"
   },
   "outputs": [],
   "source": [
    "from imblearn.datasets import make_imbalance"
   ]
  },
  {
   "cell_type": "code",
   "execution_count": 8,
   "metadata": {
    "id": "DVC6wjwtSYjQ"
   },
   "outputs": [
    {
     "data": {
      "text/plain": [
       "0    6089201\n",
       "1       7524\n",
       "Name: IsFraud, dtype: int64"
      ]
     },
     "execution_count": 8,
     "metadata": {},
     "output_type": "execute_result"
    }
   ],
   "source": [
    "y_test.value_counts()"
   ]
  },
  {
   "cell_type": "code",
   "execution_count": 9,
   "metadata": {
    "id": "2l4GP-NaSaN1"
   },
   "outputs": [],
   "source": [
    "X_test_1, y_test_1 = make_imbalance(X_test, y_test, sampling_strategy={0: 7429, 1: 7429},random_state=14)"
   ]
  },
  {
   "cell_type": "code",
   "execution_count": 10,
   "metadata": {
    "id": "k3je2Fm_SdNH"
   },
   "outputs": [
    {
     "data": {
      "text/plain": [
       "0    7429\n",
       "1    7429\n",
       "Name: IsFraud, dtype: int64"
      ]
     },
     "execution_count": 10,
     "metadata": {},
     "output_type": "execute_result"
    }
   ],
   "source": [
    "y_test_1.value_counts()"
   ]
  },
  {
   "cell_type": "code",
   "execution_count": 14,
   "metadata": {},
   "outputs": [],
   "source": [
    "X_train_1, y_train_1 = make_imbalance(X_train, y_train, sampling_strategy={0: 10000, 1: 10000},random_state=14)"
   ]
  },
  {
   "cell_type": "markdown",
   "metadata": {
    "id": "D_xD257BSgN7"
   },
   "source": [
    "### Logistic Regression with hyper parameters"
   ]
  },
  {
   "cell_type": "code",
   "execution_count": 27,
   "metadata": {},
   "outputs": [
    {
     "name": "stderr",
     "output_type": "stream",
     "text": [
      "/Users/shilpi/opt/anaconda3/lib/python3.9/site-packages/sklearn/linear_model/_logistic.py:814: ConvergenceWarning: lbfgs failed to converge (status=1):\n",
      "STOP: TOTAL NO. of ITERATIONS REACHED LIMIT.\n",
      "\n",
      "Increase the number of iterations (max_iter) or scale the data as shown in:\n",
      "    https://scikit-learn.org/stable/modules/preprocessing.html\n",
      "Please also refer to the documentation for alternative solver options:\n",
      "    https://scikit-learn.org/stable/modules/linear_model.html#logistic-regression\n",
      "  n_iter_i = _check_optimize_result(\n"
     ]
    },
    {
     "name": "stdout",
     "output_type": "stream",
     "text": [
      "MSE :  0.14860681114551083\n",
      "              precision    recall  f1-score   support\n",
      "\n",
      "           0       0.83      0.88      0.86      7429\n",
      "           1       0.87      0.82      0.85      7429\n",
      "\n",
      "    accuracy                           0.85     14858\n",
      "   macro avg       0.85      0.85      0.85     14858\n",
      "weighted avg       0.85      0.85      0.85     14858\n",
      "\n",
      "Accuracy:  0.8513931888544891\n"
     ]
    },
    {
     "data": {
      "image/png": "[encoded data removed]",
      "text/plain": [
       "<Figure size 432x288 with 2 Axes>"
      ]
     },
     "metadata": {
      "needs_background": "light"
     },
     "output_type": "display_data"
    }
   ],
   "source": [
    "from sklearn.linear_model import LogisticRegression\n",
    "from sklearn.metrics import classification_report\n",
    "from sklearn.metrics import accuracy_score\n",
    "from sklearn.metrics import mean_squared_error\n",
    "from sklearn.metrics import confusion_matrix\n",
    "lr_model = LogisticRegression(max_iter=1000)\n",
    "lr_model.fit(X_train_2, y_train_2)\n",
    "y_pred_lr = lr_model.predict(X_test_1)\n",
    "print(\"MSE : \", mean_squared_error(y_test_1, y_pred_lr))\n",
    "print(classification_report(y_test_1, y_pred_lr))\n",
    "print(\"Accuracy: \", accuracy_score(y_test_1, y_pred_lr))\n",
    "cm = confusion_matrix(y_test_1, y_pred_lr)\n",
    "ax = plt.axes()\n",
    "sns.heatmap(cm, annot=True, annot_kws={\"size\": 10}, fmt='d',cmap=\"Blues\", ax = ax )\n",
    "ax.set_title('Confusion Matrix')\n",
    "plt.show()"
   ]
  },
  {
   "cell_type": "code",
   "execution_count": 21,
   "metadata": {},
   "outputs": [
    {
     "name": "stdout",
     "output_type": "stream",
     "text": [
      "[14:40:58] WARNING: /Users/runner/work/xgboost/xgboost/python-package/build/temp.macosx-10.9-x86_64-3.7/xgboost/src/learner.cc:627: \n",
      "Parameters: { \"silent\" } might not be used.\n",
      "\n",
      "  This could be a false alarm, with some parameters getting used by language bindings but\n",
      "  then being mistakenly passed down to XGBoost core, or some parameter actually being used\n",
      "  but getting flagged wrongly here. Please open an issue if you find any such cases.\n",
      "\n",
      "\n",
      "[14:41:08] WARNING: /Users/runner/work/xgboost/xgboost/python-package/build/temp.macosx-10.9-x86_64-3.7/xgboost/src/learner.cc:627: \n",
      "Parameters: { \"silent\" } might not be used.\n",
      "\n",
      "  This could be a false alarm, with some parameters getting used by language bindings but\n",
      "  then being mistakenly passed down to XGBoost core, or some parameter actually being used\n",
      "  but getting flagged wrongly here. Please open an issue if you find any such cases.\n",
      "\n",
      "\n",
      "MSE :  0.049737515143357114\n",
      "              precision    recall  f1-score   support\n",
      "\n",
      "           0       0.95      0.95      0.95      7429\n",
      "           1       0.95      0.95      0.95      7429\n",
      "\n",
      "    accuracy                           0.95     14858\n",
      "   macro avg       0.95      0.95      0.95     14858\n",
      "weighted avg       0.95      0.95      0.95     14858\n",
      "\n",
      "Accuracy:  0.9502624848566429\n"
     ]
    },
    {
     "data": {
      "image/png": "[encoded data removed]",
      "text/plain": [
       "<Figure size 432x288 with 2 Axes>"
      ]
     },
     "metadata": {
      "needs_background": "light"
     },
     "output_type": "display_data"
    },
    {
     "name": "stderr",
     "output_type": "stream",
     "text": [
      "/Users/shilpi/opt/anaconda3/lib/python3.9/site-packages/sklearn/utils/deprecation.py:87: FutureWarning: Function plot_roc_curve is deprecated; Function :func:`plot_roc_curve` is deprecated in 1.0 and will be removed in 1.2. Use one of the class methods: :meth:`sklearn.metric.RocCurveDisplay.from_predictions` or :meth:`sklearn.metric.RocCurveDisplay.from_estimator`.\n",
      "  warnings.warn(msg, category=FutureWarning)\n"
     ]
    },
    {
     "data": {
      "image/png": "[encoded data removed]",
      "text/plain": [
       "<Figure size 432x288 with 1 Axes>"
      ]
     },
     "metadata": {
      "needs_background": "light"
     },
     "output_type": "display_data"
    }
   ],
   "source": [
    "from xgboost.sklearn import XGBClassifier\n",
    "import sklearn.metrics as metrics\n",
    "import xgboost as xgb\n",
    "xgb_itr_model = xgb.XGBClassifier(max_depth=16, eta=0.4, silent=1, objective=\"binary:logistic\", n_estimators=250, learning_rate=0.5, gamma=3)\n",
    "\n",
    "xgb_itr_model.fit(X_train_1, y_train_1)\n",
    "\n",
    "#x_train_itr_xgb, x_test_itr_xgb, y_train_itr_xgb, y_test_itr_xgb = get_test_train(cardio_train_validation_df_iterative_data, cardio_train_validation_df_iterative_target)\n",
    "xgb_itr_model.fit(X_train_1, y_train_1)\n",
    "#print(cross_val_score(xgb_itr_model, x_train_itr_xgb, y_train_itr_xgb, cv=7))\n",
    "y_pred_XB = xgb_itr_model.predict(X_test_1)\n",
    "\n",
    "print(\"MSE : \", mean_squared_error(y_test_1, y_pred_XB))\n",
    "print(classification_report(y_test_1, y_pred_XB))\n",
    "print(\"Accuracy: \", accuracy_score(y_test_1, y_pred_XB))\n",
    "cm = confusion_matrix(y_test_1, y_pred_XB)\n",
    "ax = plt.axes()\n",
    "sns.heatmap(cm, annot=True, annot_kws={\"size\": 10}, fmt='d',cmap=\"Blues\", ax = ax )\n",
    "ax.set_title('Confusion Matrix for XGBoost.')\n",
    "plt.show()\n",
    "\n",
    "metrics.plot_roc_curve(xgb_itr_model, X_test_1, y_test_1)\n",
    "plt.show()"
   ]
  },
  {
   "cell_type": "markdown",
   "metadata": {},
   "source": [
    "## Random Forest"
   ]
  },
  {
   "cell_type": "code",
   "execution_count": 23,
   "metadata": {},
   "outputs": [
    {
     "name": "stdout",
     "output_type": "stream",
     "text": [
      "MSE :  0.058487010364786644\n",
      "              precision    recall  f1-score   support\n",
      "\n",
      "           0       0.92      0.96      0.94      7429\n",
      "           1       0.96      0.92      0.94      7429\n",
      "\n",
      "    accuracy                           0.94     14858\n",
      "   macro avg       0.94      0.94      0.94     14858\n",
      "weighted avg       0.94      0.94      0.94     14858\n",
      "\n",
      "Accuracy:  0.9415129896352133\n"
     ]
    },
    {
     "data": {
      "image/png": "[encoded data removed]",
      "text/plain": [
       "<Figure size 432x288 with 2 Axes>"
      ]
     },
     "metadata": {
      "needs_background": "light"
     },
     "output_type": "display_data"
    }
   ],
   "source": [
    "from sklearn.ensemble import RandomForestClassifier\n",
    "import time\n",
    "start_time=time.time()\n",
    "\n",
    "model = RandomForestClassifier()\n",
    "n_estimators = [10, 100, 1000]\n",
    "max_features = ['sqrt', 'log2']\n",
    "\n",
    "model_random_forest = RandomForestClassifier(n_estimators=100, max_features = 'sqrt')\n",
    "\n",
    "model_random_forest.fit(X_train_1, y_train_1)\n",
    "y_pred_randomForest = model_random_forest.predict(X_test_1)\n",
    "\n",
    "print(\"MSE : \", mean_squared_error(y_test_1, y_pred_randomForest))\n",
    "print(classification_report(y_test_1, y_pred_randomForest))\n",
    "print(\"Accuracy: \", accuracy_score(y_test_1, y_pred_randomForest))\n",
    "cm = confusion_matrix(y_test_1, y_pred_randomForest)\n",
    "ax = plt.axes()\n",
    "sns.heatmap(cm, annot=True, annot_kws={\"size\": 10}, fmt='d',cmap=\"Blues\", ax = ax )\n",
    "ax.set_title('Confusion Matrix for Random Forest.')\n",
    "plt.show()"
   ]
  },
  {
   "cell_type": "code",
   "execution_count": null,
   "metadata": {},
   "outputs": [],
   "source": []
  }
 ],
 "metadata": {
  "colab": {
   "name": "Credit Card Fraud Detection.ipynb",
   "provenance": []
  },
  "kernelspec": {
   "display_name": "Python 3 (ipykernel)",
   "language": "python",
   "name": "python3"
  },
  "language_info": {
   "codemirror_mode": {
    "name": "ipython",
    "version": 3
   },
   "file_extension": ".py",
   "mimetype": "text/x-python",
   "name": "python",
   "nbconvert_exporter": "python",
   "pygments_lexer": "ipython3",
   "version": "3.9.7"
  }
 },
 "nbformat": 4,
 "nbformat_minor": 1
}
