{
 "cells": [
  {
   "cell_type": "markdown",
   "metadata": {},
   "source": [
    "## Import requried libs"
   ]
  },
  {
   "cell_type": "code",
   "execution_count": 108,
   "metadata": {},
   "outputs": [],
   "source": [
    "from cassandra.cluster import Cluster\n",
    "import pandas as pd\n",
    "import numpy as np\n",
    "import matplotlib.pyplot as plt\n",
    "import seaborn as sns\n",
    "import os\n",
    "from sklearn.preprocessing import LabelEncoder\n",
    "from sklearn.model_selection import train_test_split, cross_val_score, GridSearchCV, ShuffleSplit\n",
    "from sklearn.metrics import *\n",
    "%matplotlib inline"
   ]
  },
  {
   "cell_type": "code",
   "execution_count": 109,
   "metadata": {},
   "outputs": [],
   "source": [
    "from sklearn.feature_selection import RFE, RFECV\n",
    "from sklearn.utils import resample"
   ]
  },
  {
   "cell_type": "code",
   "execution_count": 110,
   "metadata": {},
   "outputs": [],
   "source": [
    "import pyspark"
   ]
  },
  {
   "cell_type": "code",
   "execution_count": 111,
   "metadata": {},
   "outputs": [],
   "source": [
    "from pyspark.sql import SparkSession"
   ]
  },
  {
   "cell_type": "code",
   "execution_count": 112,
   "metadata": {},
   "outputs": [],
   "source": [
    "from pyspark.sql.functions import col,isnan,when,count"
   ]
  },
  {
   "cell_type": "code",
   "execution_count": 113,
   "metadata": {},
   "outputs": [],
   "source": [
    "from pyspark.sql.functions import *"
   ]
  },
  {
   "cell_type": "code",
   "execution_count": 114,
   "metadata": {},
   "outputs": [],
   "source": [
    "from pyspark.sql.types import *\n",
    "from pyspark.sql.functions import col"
   ]
  },
  {
   "cell_type": "code",
   "execution_count": 115,
   "metadata": {},
   "outputs": [],
   "source": [
    "spark = SparkSession \\\n",
    "    .builder \\\n",
    "    .appName(\"Credit card fraud detection\") \\\n",
    "    .getOrCreate()"
   ]
  },
  {
   "cell_type": "code",
   "execution_count": 116,
   "metadata": {},
   "outputs": [
    {
     "data": {
      "text/html": [
       "\n",
       "            <div>\n",
       "                <p><b>SparkSession - in-memory</b></p>\n",
       "                \n",
       "        <div>\n",
       "            <p><b>SparkContext</b></p>\n",
       "\n",
       "            <p><a href=\"http://172.20.20.20:4040\">Spark UI</a></p>\n",
       "\n",
       "            <dl>\n",
       "              <dt>Version</dt>\n",
       "                <dd><code>v3.2.1</code></dd>\n",
       "              <dt>Master</dt>\n",
       "                <dd><code>local[*]</code></dd>\n",
       "              <dt>AppName</dt>\n",
       "                <dd><code>Credit card fraud detection</code></dd>\n",
       "            </dl>\n",
       "        </div>\n",
       "        \n",
       "            </div>\n",
       "        "
      ],
      "text/plain": [
       "<pyspark.sql.session.SparkSession at 0x7fe583619be0>"
      ]
     },
     "execution_count": 116,
     "metadata": {},
     "output_type": "execute_result"
    }
   ],
   "source": [
    "spark"
   ]
  },
  {
   "cell_type": "code",
   "execution_count": 117,
   "metadata": {},
   "outputs": [],
   "source": [
    "df = spark.read.option('header', 'true').csv('credit_card_transaction_data.csv')"
   ]
  },
  {
   "cell_type": "code",
   "execution_count": 118,
   "metadata": {},
   "outputs": [
    {
     "name": "stdout",
     "output_type": "stream",
     "text": [
      "+--------------+----+----+----+-----+---+-----+-------+------------------+--------------------+-------------+--------------+-------+----+------+-------+\n",
      "|Transaction_ID|User|Card|Year|Month|Day| Time| Amount|          Use_Chip|       Merchant_Name|Merchant_City|Merchant_State|    Zip| MCC|Errors|IsFraud|\n",
      "+--------------+----+----+----+-----+---+-----+-------+------------------+--------------------+-------------+--------------+-------+----+------+-------+\n",
      "|             0|   0|   0|2002|    9|  1|06:21|$134.09| Swipe Transaction| 3527213246127876953|     La Verne|            CA|91750.0|5300|  null|     No|\n",
      "|             1|   0|   0|2002|    9|  1|06:42| $38.48| Swipe Transaction| -727612092139916043|Monterey Park|            CA|91754.0|5411|  null|     No|\n",
      "|             2|   0|   0|2002|    9|  2|06:22|$120.34| Swipe Transaction| -727612092139916043|Monterey Park|            CA|91754.0|5411|  null|     No|\n",
      "|             3|   0|   0|2002|    9|  2|17:45|$128.95| Swipe Transaction| 3414527459579106770|Monterey Park|            CA|91754.0|5651|  null|     No|\n",
      "|             4|   0|   0|2002|    9|  3|06:23|$104.71| Swipe Transaction| 5817218446178736267|     La Verne|            CA|91750.0|5912|  null|     No|\n",
      "|             5|   0|   0|2002|    9|  3|13:53| $86.19| Swipe Transaction|-7146670748125200898|Monterey Park|            CA|91755.0|5970|  null|     No|\n",
      "|             6|   0|   0|2002|    9|  4|05:51| $93.84| Swipe Transaction| -727612092139916043|Monterey Park|            CA|91754.0|5411|  null|     No|\n",
      "|             7|   0|   0|2002|    9|  4|06:09|$123.50| Swipe Transaction| -727612092139916043|Monterey Park|            CA|91754.0|5411|  null|     No|\n",
      "|             8|   0|   0|2002|    9|  5|06:14| $61.72| Swipe Transaction| -727612092139916043|Monterey Park|            CA|91754.0|5411|  null|     No|\n",
      "|             9|   0|   0|2002|    9|  5|09:35| $57.10| Swipe Transaction| 4055257078481058705|     La Verne|            CA|91750.0|7538|  null|     No|\n",
      "|            10|   0|   0|2002|    9|  5|20:18| $76.07| Swipe Transaction|-4500542936415012428|     La Verne|            CA|91750.0|5814|  null|     No|\n",
      "|            11|   0|   0|2002|    9|  5|20:41| $53.91|Online Transaction|-9092677072201095172|       ONLINE|          null|   null|4900|  null|     No|\n",
      "|            12|   0|   0|2002|    9|  6|06:16|$110.37| Swipe Transaction| 2027553650310142703|    Mira Loma|            CA|91752.0|5541|  null|     No|\n",
      "|            13|   0|   0|2002|    9|  7|06:16|$117.05| Swipe Transaction| -727612092139916043|Monterey Park|            CA|91754.0|5411|  null|     No|\n",
      "|            14|   0|   0|2002|    9|  7|06:34| $45.30| Swipe Transaction|-5475680618560174533|Monterey Park|            CA|91755.0|5942|  null|     No|\n",
      "|            15|   0|   0|2002|    9|  7|09:39| $29.34| Swipe Transaction| 4055257078481058705|     La Verne|            CA|91750.0|7538|  null|     No|\n",
      "|            16|   0|   0|2002|    9|  8|06:10|$147.45| Swipe Transaction|  -34551508091458520|     La Verne|            CA|91750.0|5912|  null|     No|\n",
      "|            17|   0|   0|2002|    9|  8|06:38| $27.75| Swipe Transaction| 4060646732831064559|     La Verne|            CA|91750.0|5411|  null|     No|\n",
      "|            18|   0|   0|2002|    9|  8|13:48| $76.57| Swipe Transaction| -727612092139916043|Monterey Park|            CA|91754.0|5411|  null|     No|\n",
      "|            19|   0|   0|2002|    9|  8|22:01| $22.56| Swipe Transaction|-6733168469687845480|    Mira Loma|            CA|91752.0|7832|  null|     No|\n",
      "+--------------+----+----+----+-----+---+-----+-------+------------------+--------------------+-------------+--------------+-------+----+------+-------+\n",
      "only showing top 20 rows\n",
      "\n"
     ]
    }
   ],
   "source": [
    "df.show()"
   ]
  },
  {
   "cell_type": "code",
   "execution_count": 119,
   "metadata": {},
   "outputs": [
    {
     "data": {
      "text/plain": [
       "24386900"
      ]
     },
     "execution_count": 119,
     "metadata": {},
     "output_type": "execute_result"
    }
   ],
   "source": [
    "df.count()"
   ]
  },
  {
   "cell_type": "code",
   "execution_count": 120,
   "metadata": {},
   "outputs": [
    {
     "data": {
      "text/plain": [
       "[Row(Transaction_ID='0', User='0', Card='0', Year='2002', Month='9', Day='1', Time='06:21', Amount='$134.09', Use_Chip='Swipe Transaction', Merchant_Name='3527213246127876953', Merchant_City='La Verne', Merchant_State='CA', Zip='91750.0', MCC='5300', Errors=None, IsFraud='No'),\n",
       " Row(Transaction_ID='1', User='0', Card='0', Year='2002', Month='9', Day='1', Time='06:42', Amount='$38.48', Use_Chip='Swipe Transaction', Merchant_Name='-727612092139916043', Merchant_City='Monterey Park', Merchant_State='CA', Zip='91754.0', MCC='5411', Errors=None, IsFraud='No'),\n",
       " Row(Transaction_ID='2', User='0', Card='0', Year='2002', Month='9', Day='2', Time='06:22', Amount='$120.34', Use_Chip='Swipe Transaction', Merchant_Name='-727612092139916043', Merchant_City='Monterey Park', Merchant_State='CA', Zip='91754.0', MCC='5411', Errors=None, IsFraud='No')]"
      ]
     },
     "execution_count": 120,
     "metadata": {},
     "output_type": "execute_result"
    }
   ],
   "source": [
    "df.head(3)"
   ]
  },
  {
   "cell_type": "code",
   "execution_count": 122,
   "metadata": {},
   "outputs": [
    {
     "data": {
      "text/plain": [
       "pyspark.sql.dataframe.DataFrame"
      ]
     },
     "execution_count": 122,
     "metadata": {},
     "output_type": "execute_result"
    }
   ],
   "source": [
    "type(df)"
   ]
  },
  {
   "cell_type": "code",
   "execution_count": 123,
   "metadata": {},
   "outputs": [
    {
     "name": "stdout",
     "output_type": "stream",
     "text": [
      "root\n",
      " |-- Transaction_ID: string (nullable = true)\n",
      " |-- User: string (nullable = true)\n",
      " |-- Card: string (nullable = true)\n",
      " |-- Year: string (nullable = true)\n",
      " |-- Month: string (nullable = true)\n",
      " |-- Day: string (nullable = true)\n",
      " |-- Time: string (nullable = true)\n",
      " |-- Amount: string (nullable = true)\n",
      " |-- Use_Chip: string (nullable = true)\n",
      " |-- Merchant_Name: string (nullable = true)\n",
      " |-- Merchant_City: string (nullable = true)\n",
      " |-- Merchant_State: string (nullable = true)\n",
      " |-- Zip: string (nullable = true)\n",
      " |-- MCC: string (nullable = true)\n",
      " |-- Errors: string (nullable = true)\n",
      " |-- IsFraud: string (nullable = true)\n",
      "\n"
     ]
    }
   ],
   "source": [
    "df.printSchema()"
   ]
  },
  {
   "cell_type": "markdown",
   "metadata": {},
   "source": [
    "### get statistics about null/nan values "
   ]
  },
  {
   "cell_type": "code",
   "execution_count": 124,
   "metadata": {},
   "outputs": [
    {
     "data": {
      "text/plain": [
       "DataFrame[Transaction_ID: bigint, User: bigint, Card: bigint, Year: bigint, Month: bigint, Day: bigint, Time: bigint, Amount: bigint, Use_Chip: bigint, Merchant_Name: bigint, Merchant_City: bigint, Merchant_State: bigint, Zip: bigint, MCC: bigint, Errors: bigint, IsFraud: bigint]"
      ]
     },
     "execution_count": 124,
     "metadata": {},
     "output_type": "execute_result"
    }
   ],
   "source": [
    "df.select([count(when(col(c).contains('None') | \\\n",
    "                            col(c).contains('NULL') | \\\n",
    "                            (col(c) == '' ) | \\\n",
    "                            col(c).isNull() | \\\n",
    "                            isnan(c), c \n",
    "                           )).alias(c)\n",
    "                    for c in df.columns]).show()"
   ]
  },
  {
   "cell_type": "markdown",
   "metadata": {},
   "source": [
    "### get data types of each attributes"
   ]
  },
  {
   "cell_type": "code",
   "execution_count": 125,
   "metadata": {},
   "outputs": [
    {
     "data": {
      "text/plain": [
       "[('Transaction_ID', 'string'),\n",
       " ('User', 'string'),\n",
       " ('Card', 'string'),\n",
       " ('Year', 'string'),\n",
       " ('Month', 'string'),\n",
       " ('Day', 'string'),\n",
       " ('Time', 'string'),\n",
       " ('Amount', 'string'),\n",
       " ('Use_Chip', 'string'),\n",
       " ('Merchant_Name', 'string'),\n",
       " ('Merchant_City', 'string'),\n",
       " ('Merchant_State', 'string'),\n",
       " ('Zip', 'string'),\n",
       " ('MCC', 'string'),\n",
       " ('Errors', 'string'),\n",
       " ('IsFraud', 'string')]"
      ]
     },
     "execution_count": 125,
     "metadata": {},
     "output_type": "execute_result"
    }
   ],
   "source": [
    "df.dtypes"
   ]
  },
  {
   "cell_type": "markdown",
   "metadata": {},
   "source": [
    "### get statitical description of the data"
   ]
  },
  {
   "cell_type": "code",
   "execution_count": 127,
   "metadata": {},
   "outputs": [
    {
     "name": "stdout",
     "output_type": "stream",
     "text": [
      "+-------+------------------+-----------------+------------------+\n",
      "|summary|              Year|            Month|               Day|\n",
      "+-------+------------------+-----------------+------------------+\n",
      "|  count|          24386900|         24386900|          24386900|\n",
      "|   mean|2011.9551699067943| 6.52506357921671|15.718122721625134|\n",
      "| stddev| 5.105920688923643|3.472354834572916| 8.794073288462577|\n",
      "|    min|              1991|                1|                 1|\n",
      "|    max|              2020|                9|                 9|\n",
      "+-------+------------------+-----------------+------------------+\n",
      "\n"
     ]
    }
   ],
   "source": [
    "\n",
    "df['Year', 'Month', 'Day'].describe().show()"
   ]
  },
  {
   "cell_type": "code",
   "execution_count": 128,
   "metadata": {},
   "outputs": [
    {
     "name": "stdout",
     "output_type": "stream",
     "text": [
      "+-------+--------+-----------------+-------------+--------------+\n",
      "|summary|  Amount|         Use_Chip|Merchant_City|Merchant_State|\n",
      "+-------+--------+-----------------+-------------+--------------+\n",
      "|  count|24386900|         24386900|     24386900|      21666079|\n",
      "|   mean|    null|             null|         null|          null|\n",
      "| stddev|    null|             null|         null|          null|\n",
      "|    min|  $-0.00| Chip Transaction|       ONLINE|            AA|\n",
      "|    max| $999.97|Swipe Transaction|       Zwolle|      Zimbabwe|\n",
      "+-------+--------+-----------------+-------------+--------------+\n",
      "\n"
     ]
    }
   ],
   "source": [
    "df['Amount', 'Use_Chip', 'Merchant_City', 'Merchant_State'].describe().show()"
   ]
  },
  {
   "cell_type": "code",
   "execution_count": 129,
   "metadata": {},
   "outputs": [
    {
     "name": "stdout",
     "output_type": "stream",
     "text": [
      "+-------+-----------------+-----------------+--------+------------------+\n",
      "|summary|              MCC|           Errors| IsFraud|               Zip|\n",
      "+-------+-----------------+-----------------+--------+------------------+\n",
      "|  count|         24386900|           388431|24386900|          21508765|\n",
      "|   mean|5561.171253336833|             null|    null| 50956.44211506332|\n",
      "| stddev|879.3154327182834|             null|    null|29397.065949063595|\n",
      "|    min|             1711|         Bad CVV,|      No|           10001.0|\n",
      "|    max|             9402|Technical Glitch,|     Yes|           99928.0|\n",
      "+-------+-----------------+-----------------+--------+------------------+\n",
      "\n"
     ]
    }
   ],
   "source": [
    "df['MCC', 'Errors', 'IsFraud', 'Zip'].describe().show()"
   ]
  },
  {
   "cell_type": "markdown",
   "metadata": {},
   "source": [
    "Analysis : \n",
    "Year : the transaction data has the range of year 1991 - 2020 : datatype of the year : int\n",
    "\n",
    "Month : the transaction data has the range of month Jan - Sept : datatype of the month : int\n",
    "\n",
    "Day: the transaction data has the range of day 1 - 9 : datatype of the day : int\n",
    "\n",
    "Amount : Amount attributes contians the $ sign which makes it string type attribute. This attribute should be refined to have float type. \n",
    "\n",
    "Merchant_State : This attribute contians lesser count so it contians nan or empty string. \n",
    "\n",
    "MCC : Mechant Category Codes - This code is provided by the credit card issuer to categorize the transaction made by the customer. \n",
    "\n",
    "Errors : The lesser count of this attribut suggests that it contians null values. \n",
    "\n",
    "Zip : the datatype of this attribute is float which needs to be convered to int. \n",
    "\n",
    "IsFraud : this is the target categorical variable \n"
   ]
  },
  {
   "cell_type": "markdown",
   "metadata": {},
   "source": [
    "Numerical attributes : Year, Month, day, Amount, MCC, Zip \n",
    "\n",
    "Categorical attributes: Merchant_State, Merchant_City, Errors, IsFraud, Use_Chip"
   ]
  },
  {
   "cell_type": "markdown",
   "metadata": {},
   "source": [
    "### Convert amount to numeric"
   ]
  },
  {
   "cell_type": "markdown",
   "metadata": {},
   "source": [
    "##### Remove $ sign "
   ]
  },
  {
   "cell_type": "code",
   "execution_count": 130,
   "metadata": {},
   "outputs": [],
   "source": [
    "df = df.withColumn('Amount', translate('Amount', '$', ''))"
   ]
  },
  {
   "cell_type": "code",
   "execution_count": 131,
   "metadata": {},
   "outputs": [
    {
     "name": "stdout",
     "output_type": "stream",
     "text": [
      "+------+\n",
      "|Amount|\n",
      "+------+\n",
      "|134.09|\n",
      "| 38.48|\n",
      "|120.34|\n",
      "|128.95|\n",
      "|104.71|\n",
      "| 86.19|\n",
      "| 93.84|\n",
      "|123.50|\n",
      "| 61.72|\n",
      "| 57.10|\n",
      "| 76.07|\n",
      "| 53.91|\n",
      "|110.37|\n",
      "|117.05|\n",
      "| 45.30|\n",
      "| 29.34|\n",
      "|147.45|\n",
      "| 27.75|\n",
      "| 76.57|\n",
      "| 22.56|\n",
      "+------+\n",
      "only showing top 20 rows\n",
      "\n"
     ]
    }
   ],
   "source": [
    "df.select(col(\"Amount\")).show()"
   ]
  },
  {
   "cell_type": "code",
   "execution_count": 132,
   "metadata": {},
   "outputs": [],
   "source": [
    "df = df.withColumn(\"Amount\",round(df.Amount.cast(DoubleType()),2))"
   ]
  },
  {
   "cell_type": "code",
   "execution_count": 133,
   "metadata": {},
   "outputs": [
    {
     "data": {
      "text/plain": [
       "[('Transaction_ID', 'string'),\n",
       " ('User', 'string'),\n",
       " ('Card', 'string'),\n",
       " ('Year', 'string'),\n",
       " ('Month', 'string'),\n",
       " ('Day', 'string'),\n",
       " ('Time', 'string'),\n",
       " ('Amount', 'double'),\n",
       " ('Use_Chip', 'string'),\n",
       " ('Merchant_Name', 'string'),\n",
       " ('Merchant_City', 'string'),\n",
       " ('Merchant_State', 'string'),\n",
       " ('Zip', 'string'),\n",
       " ('MCC', 'string'),\n",
       " ('Errors', 'string'),\n",
       " ('IsFraud', 'string')]"
      ]
     },
     "execution_count": 133,
     "metadata": {},
     "output_type": "execute_result"
    }
   ],
   "source": [
    "df.dtypes"
   ]
  },
  {
   "cell_type": "markdown",
   "metadata": {},
   "source": [
    "### Convert Year, Month, Day, Zip, MCC in to Integer type"
   ]
  },
  {
   "cell_type": "code",
   "execution_count": 134,
   "metadata": {},
   "outputs": [],
   "source": [
    "df = df.withColumn(\"Year\", df[\"Year\"].cast(IntegerType()))"
   ]
  },
  {
   "cell_type": "code",
   "execution_count": 135,
   "metadata": {},
   "outputs": [],
   "source": [
    "df = df.withColumn(\"Month\", df[\"Month\"].cast(IntegerType()))\n",
    "df = df.withColumn(\"Day\", df[\"Day\"].cast(IntegerType()))\n",
    "df = df.withColumn(\"Zip\", df[\"Zip\"].cast(IntegerType()))\n",
    "df = df.withColumn(\"MCC\", df[\"MCC\"].cast(IntegerType()))"
   ]
  },
  {
   "cell_type": "code",
   "execution_count": 136,
   "metadata": {},
   "outputs": [],
   "source": [
    "df = df.withColumn(\"Transaction_ID\", df[\"Transaction_ID\"].cast(IntegerType()))\n",
    "df = df.withColumn(\"User\", df[\"User\"].cast(IntegerType()))\n",
    "df = df.withColumn(\"Card\", df[\"Card\"].cast(IntegerType()))"
   ]
  },
  {
   "cell_type": "code",
   "execution_count": 137,
   "metadata": {},
   "outputs": [
    {
     "data": {
      "text/plain": [
       "[('Transaction_ID', 'int'),\n",
       " ('User', 'int'),\n",
       " ('Card', 'int'),\n",
       " ('Year', 'int'),\n",
       " ('Month', 'int'),\n",
       " ('Day', 'int'),\n",
       " ('Time', 'string'),\n",
       " ('Amount', 'double'),\n",
       " ('Use_Chip', 'string'),\n",
       " ('Merchant_Name', 'string'),\n",
       " ('Merchant_City', 'string'),\n",
       " ('Merchant_State', 'string'),\n",
       " ('Zip', 'int'),\n",
       " ('MCC', 'int'),\n",
       " ('Errors', 'string'),\n",
       " ('IsFraud', 'string')]"
      ]
     },
     "execution_count": 137,
     "metadata": {},
     "output_type": "execute_result"
    }
   ],
   "source": [
    "df.dtypes"
   ]
  },
  {
   "cell_type": "markdown",
   "metadata": {},
   "source": [
    "### Convert time (hr : minute) formate to only hour"
   ]
  },
  {
   "cell_type": "code",
   "execution_count": 138,
   "metadata": {},
   "outputs": [],
   "source": [
    "df = df.withColumn('hour', split(df['Time'], ':').getItem(0))"
   ]
  },
  {
   "cell_type": "code",
   "execution_count": 139,
   "metadata": {},
   "outputs": [],
   "source": [
    "df = df.withColumn(\"hour\", df[\"hour\"].cast(IntegerType()))"
   ]
  },
  {
   "cell_type": "code",
   "execution_count": 140,
   "metadata": {},
   "outputs": [
    {
     "name": "stdout",
     "output_type": "stream",
     "text": [
      "+----+\n",
      "|hour|\n",
      "+----+\n",
      "|   6|\n",
      "|   6|\n",
      "|   6|\n",
      "|  17|\n",
      "|   6|\n",
      "|  13|\n",
      "|   5|\n",
      "|   6|\n",
      "|   6|\n",
      "|   9|\n",
      "|  20|\n",
      "|  20|\n",
      "|   6|\n",
      "|   6|\n",
      "|   6|\n",
      "|   9|\n",
      "|   6|\n",
      "|   6|\n",
      "|  13|\n",
      "|  22|\n",
      "+----+\n",
      "only showing top 20 rows\n",
      "\n"
     ]
    }
   ],
   "source": [
    "df.select(col(\"hour\")).show()"
   ]
  },
  {
   "cell_type": "markdown",
   "metadata": {},
   "source": [
    "### Drop time attributes"
   ]
  },
  {
   "cell_type": "code",
   "execution_count": 141,
   "metadata": {},
   "outputs": [],
   "source": [
    "df = df.drop('Time')"
   ]
  },
  {
   "cell_type": "markdown",
   "metadata": {},
   "source": [
    "### Analyze merchant state and zip code"
   ]
  },
  {
   "cell_type": "markdown",
   "metadata": {},
   "source": [
    "#### Numbers of null values in merchant_state attribute"
   ]
  },
  {
   "cell_type": "code",
   "execution_count": 50,
   "metadata": {},
   "outputs": [],
   "source": [
    "'''\n",
    "data_state_na = df.select([when(col(c).contains('None') | \\\n",
    "                            col(c).contains('NULL') | \\\n",
    "                            col(c).isNull() | \\\n",
    "                            isnan(c), c \n",
    "                           ).alias(c)\n",
    "                    for c in ['Merchant_State']])\n",
    "'''"
   ]
  },
  {
   "cell_type": "code",
   "execution_count": 142,
   "metadata": {},
   "outputs": [],
   "source": [
    "data_state_na = df.filter(col(\"Merchant_State\").isNull())"
   ]
  },
  {
   "cell_type": "code",
   "execution_count": 143,
   "metadata": {},
   "outputs": [
    {
     "data": {
      "text/plain": [
       "2720821"
      ]
     },
     "execution_count": 143,
     "metadata": {},
     "output_type": "execute_result"
    }
   ],
   "source": [
    "data_state_na.count()"
   ]
  },
  {
   "cell_type": "markdown",
   "metadata": {},
   "source": [
    "2720821 out of 24386900 contains null values in the merchant_state attributes. "
   ]
  },
  {
   "cell_type": "markdown",
   "metadata": {},
   "source": [
    "#### How many of them are the fraud transactions ?"
   ]
  },
  {
   "cell_type": "code",
   "execution_count": 144,
   "metadata": {},
   "outputs": [
    {
     "name": "stdout",
     "output_type": "stream",
     "text": [
      "+--------------+----+----+----+-----+---+------+------------------+--------------------+-------------+--------------+----+----+--------------------+-------+----+\n",
      "|Transaction_ID|User|Card|Year|Month|Day|Amount|          Use_Chip|       Merchant_Name|Merchant_City|Merchant_State| Zip| MCC|              Errors|IsFraud|hour|\n",
      "+--------------+----+----+----+-----+---+------+------------------+--------------------+-------------+--------------+----+----+--------------------+-------+----+\n",
      "|            11|   0|   0|2002|    9|  5| 53.91|Online Transaction|-9092677072201095172|       ONLINE|          null|null|4900|                null|     No|  20|\n",
      "|            24|   0|   0|2002|    9|  9| 144.9|Online Transaction|-8338381919281017248|       ONLINE|          null|null|4899|                null|     No|  20|\n",
      "|            85|   0|   0|2002|    9| 30|127.32|Online Transaction|-7421093378627544099|       ONLINE|          null|null|5311|                null|     No|   6|\n",
      "|            99|   0|   0|2002|   10|  6|139.39|Online Transaction|-7421093378627544099|       ONLINE|          null|null|5311|                null|     No|   6|\n",
      "|           106|   0|   0|2002|   10|  9| 53.09|Online Transaction|-4956618006720593695|       ONLINE|          null|null|5193|                null|     No|   8|\n",
      "|           181|   0|   0|2002|   11|  5| 28.39|Online Transaction| 4241336128694185533|       ONLINE|          null|null|4814|                null|     No|  16|\n",
      "|           268|   0|   0|2002|   12|  8|210.96|Online Transaction| 6654290286221782850|       ONLINE|          null|null|4899|                null|     No|  20|\n",
      "|           272|   0|   0|2002|   12| 10|128.41|Online Transaction|-7421093378627544099|       ONLINE|          null|null|5311|                null|     No|   6|\n",
      "|           276|   0|   0|2002|   12| 11| 58.42|Online Transaction|-9092677072201095172|       ONLINE|          null|null|4900|                null|     No|  20|\n",
      "|           287|   0|   0|2002|   12| 16|121.81|Online Transaction|-7421093378627544099|       ONLINE|          null|null|5311|Insufficient Bala...|     No|   6|\n",
      "|           288|   0|   0|2002|   12| 16| 97.31|Online Transaction|-7421093378627544099|       ONLINE|          null|null|5311|                null|     No|   6|\n",
      "|           306|   0|   0|2002|   12| 24|  9.92|Online Transaction| 6455213054093379528|       ONLINE|          null|null|5815|                null|     No|  17|\n",
      "|           349|   0|   0|2003|    1| 10|  6.51|Online Transaction|-2042049018365856408|       ONLINE|          null|null|5815|                null|     No|  17|\n",
      "|           365|   0|   0|2003|    1| 24| 227.9|Online Transaction| 8099188931555596779|       ONLINE|          null|null|7996|                null|     No|  12|\n",
      "|           400|   0|   0|2003|    2| 17|185.66|Online Transaction| 8528733969764750207|       ONLINE|          null|null|4899|                null|     No|  19|\n",
      "|           476|   0|   0|2003|    4| 10|  4.73|Online Transaction| -521141999023077663|       ONLINE|          null|null|5815|                null|     No|  17|\n",
      "|           479|   0|   0|2003|    4| 12|192.46|Online Transaction|-3289339997738008669|       ONLINE|          null|null|4899|                null|     No|  20|\n",
      "|           509|   0|   0|2003|    5|  1| 14.97|Online Transaction| 4241336128694185533|       ONLINE|          null|null|4814|                null|     No|  16|\n",
      "|           549|   0|   0|2003|    5| 25|126.02|Online Transaction|-7421093378627544099|       ONLINE|          null|null|5311|                null|     No|   6|\n",
      "|           559|   0|   0|2003|    5| 29|   8.4|Online Transaction| -521141999023077663|       ONLINE|          null|null|5815|                null|     No|  17|\n",
      "+--------------+----+----+----+-----+---+------+------------------+--------------------+-------------+--------------+----+----+--------------------+-------+----+\n",
      "only showing top 20 rows\n",
      "\n"
     ]
    }
   ],
   "source": [
    "data_state_na.show()"
   ]
  },
  {
   "cell_type": "code",
   "execution_count": 145,
   "metadata": {},
   "outputs": [
    {
     "data": {
      "text/plain": [
       "18349"
      ]
     },
     "execution_count": 145,
     "metadata": {},
     "output_type": "execute_result"
    }
   ],
   "source": [
    "data_state_na.filter(col(\"IsFraud\") == 'Yes').count()"
   ]
  },
  {
   "cell_type": "code",
   "execution_count": 146,
   "metadata": {},
   "outputs": [
    {
     "data": {
      "text/plain": [
       "2720821"
      ]
     },
     "execution_count": 146,
     "metadata": {},
     "output_type": "execute_result"
    }
   ],
   "source": [
    "data_state_na.filter(col('Merchant_City') == ' ONLINE').count()"
   ]
  },
  {
   "cell_type": "code",
   "execution_count": 147,
   "metadata": {},
   "outputs": [
    {
     "data": {
      "text/plain": [
       "157314"
      ]
     },
     "execution_count": 147,
     "metadata": {},
     "output_type": "execute_result"
    }
   ],
   "source": [
    "df.filter(col('Zip').isNull() & col('Merchant_State').isNotNull()).count()"
   ]
  },
  {
   "cell_type": "markdown",
   "metadata": {},
   "source": [
    "getting nan for the merchant state whenever the transaction made online and no data found for their state and zip code is also nan at that time. so replacing merchant state with online is the good choice. \n",
    "\n",
    "\n",
    "Zip column contains 11% of missing values, and that can be imputed if we find zip value for same merchant state and city for which we already have zip values. "
   ]
  },
  {
   "cell_type": "code",
   "execution_count": 148,
   "metadata": {},
   "outputs": [],
   "source": [
    "data_zip_notna = df.filter(col('Zip').isNotNull() & col('Merchant_State').isNotNull())"
   ]
  },
  {
   "cell_type": "code",
   "execution_count": 149,
   "metadata": {},
   "outputs": [],
   "source": [
    "data_zip_na_state_notna = df.filter(col('Zip').isNull() & col('Merchant_State').isNotNull())"
   ]
  },
  {
   "cell_type": "code",
   "execution_count": 150,
   "metadata": {},
   "outputs": [
    {
     "data": {
      "text/plain": [
       "[Row(Merchant_State='Russia'),\n",
       " Row(Merchant_State='Sweden'),\n",
       " Row(Merchant_State='Philippines'),\n",
       " Row(Merchant_State='Singapore'),\n",
       " Row(Merchant_State='Malaysia'),\n",
       " Row(Merchant_State='Turkey'),\n",
       " Row(Merchant_State='Germany'),\n",
       " Row(Merchant_State='Cambodia'),\n",
       " Row(Merchant_State='France'),\n",
       " Row(Merchant_State='Greece'),\n",
       " Row(Merchant_State='Taiwan'),\n",
       " Row(Merchant_State='Algeria'),\n",
       " Row(Merchant_State='Slovakia'),\n",
       " Row(Merchant_State='Argentina'),\n",
       " Row(Merchant_State='Belgium'),\n",
       " Row(Merchant_State='Finland'),\n",
       " Row(Merchant_State='Ghana'),\n",
       " Row(Merchant_State='Sierra Leone'),\n",
       " Row(Merchant_State='Peru'),\n",
       " Row(Merchant_State='Benin'),\n",
       " Row(Merchant_State='China'),\n",
       " Row(Merchant_State='India'),\n",
       " Row(Merchant_State='Tuvalu'),\n",
       " Row(Merchant_State='Croatia'),\n",
       " Row(Merchant_State='Nigeria'),\n",
       " Row(Merchant_State='Italy'),\n",
       " Row(Merchant_State='Lithuania'),\n",
       " Row(Merchant_State='Norway'),\n",
       " Row(Merchant_State='Spain'),\n",
       " Row(Merchant_State='Denmark'),\n",
       " Row(Merchant_State='Bangladesh'),\n",
       " Row(Merchant_State='Barbados'),\n",
       " Row(Merchant_State='Ireland'),\n",
       " Row(Merchant_State='Liechtenstein'),\n",
       " Row(Merchant_State='Thailand'),\n",
       " Row(Merchant_State='Hong Kong'),\n",
       " Row(Merchant_State='Israel'),\n",
       " Row(Merchant_State='Oman'),\n",
       " Row(Merchant_State='South Korea'),\n",
       " Row(Merchant_State='Mexico'),\n",
       " Row(Merchant_State='Aruba'),\n",
       " Row(Merchant_State='Estonia'),\n",
       " Row(Merchant_State='Indonesia'),\n",
       " Row(Merchant_State='The Bahamas'),\n",
       " Row(Merchant_State='Mongolia'),\n",
       " Row(Merchant_State='Guatemala'),\n",
       " Row(Merchant_State='Saudi Arabia'),\n",
       " Row(Merchant_State='Switzerland'),\n",
       " Row(Merchant_State='Jamaica'),\n",
       " Row(Merchant_State='Latvia'),\n",
       " Row(Merchant_State='United Arab Emirates'),\n",
       " Row(Merchant_State='Canada'),\n",
       " Row(Merchant_State='Macedonia'),\n",
       " Row(Merchant_State='Czech Republic'),\n",
       " Row(Merchant_State='Brazil'),\n",
       " Row(Merchant_State='Slovenia'),\n",
       " Row(Merchant_State='Dominican Republic'),\n",
       " Row(Merchant_State='Japan'),\n",
       " Row(Merchant_State='New Zealand'),\n",
       " Row(Merchant_State='Haiti'),\n",
       " Row(Merchant_State='Poland'),\n",
       " Row(Merchant_State='Portugal'),\n",
       " Row(Merchant_State='Papua New Guinea'),\n",
       " Row(Merchant_State='Australia'),\n",
       " Row(Merchant_State='Austria'),\n",
       " Row(Merchant_State='Egypt'),\n",
       " Row(Merchant_State='Costa Rica'),\n",
       " Row(Merchant_State='Serbia'),\n",
       " Row(Merchant_State='South Africa'),\n",
       " Row(Merchant_State='Micronesia'),\n",
       " Row(Merchant_State='Colombia'),\n",
       " Row(Merchant_State='Hungary'),\n",
       " Row(Merchant_State='Pakistan'),\n",
       " Row(Merchant_State='Vatican City'),\n",
       " Row(Merchant_State='United Kingdom'),\n",
       " Row(Merchant_State='Vietnam'),\n",
       " Row(Merchant_State='Netherlands'),\n",
       " Row(Merchant_State='Eritrea'),\n",
       " Row(Merchant_State='Maldives'),\n",
       " Row(Merchant_State='Kosovo'),\n",
       " Row(Merchant_State='Belarus'),\n",
       " Row(Merchant_State='Chile'),\n",
       " Row(Merchant_State='Iran'),\n",
       " Row(Merchant_State='Venezuela'),\n",
       " Row(Merchant_State='Iceland'),\n",
       " Row(Merchant_State='Georgia'),\n",
       " Row(Merchant_State='Myanmar (Burma)'),\n",
       " Row(Merchant_State='South Sudan'),\n",
       " Row(Merchant_State='Samoa'),\n",
       " Row(Merchant_State='Tanzania'),\n",
       " Row(Merchant_State='Luxembourg'),\n",
       " Row(Merchant_State='Burkina Faso'),\n",
       " Row(Merchant_State='Moldova'),\n",
       " Row(Merchant_State='Kiribati'),\n",
       " Row(Merchant_State='Fiji'),\n",
       " Row(Merchant_State='Kuwait'),\n",
       " Row(Merchant_State='Sao Tome and Principe'),\n",
       " Row(Merchant_State='Panama'),\n",
       " Row(Merchant_State='Zimbabwe'),\n",
       " Row(Merchant_State='Honduras'),\n",
       " Row(Merchant_State='Ethiopia'),\n",
       " Row(Merchant_State='Uzbekistan'),\n",
       " Row(Merchant_State='Kenya'),\n",
       " Row(Merchant_State='Romania'),\n",
       " Row(Merchant_State='Yemen'),\n",
       " Row(Merchant_State='Djibouti'),\n",
       " Row(Merchant_State='Ecuador'),\n",
       " Row(Merchant_State='Nicaragua'),\n",
       " Row(Merchant_State='Cyprus'),\n",
       " Row(Merchant_State='Uruguay'),\n",
       " Row(Merchant_State='Cameroon'),\n",
       " Row(Merchant_State='Cabo Verde'),\n",
       " Row(Merchant_State='Malawi'),\n",
       " Row(Merchant_State='Sri Lanka'),\n",
       " Row(Merchant_State='Togo'),\n",
       " Row(Merchant_State='Swaziland'),\n",
       " Row(Merchant_State='Morocco'),\n",
       " Row(Merchant_State='Monaco'),\n",
       " Row(Merchant_State='Lebanon'),\n",
       " Row(Merchant_State='Somalia'),\n",
       " Row(Merchant_State='Suriname'),\n",
       " Row(Merchant_State='Ukraine'),\n",
       " Row(Merchant_State='Liberia'),\n",
       " Row(Merchant_State='Mozambique'),\n",
       " Row(Merchant_State='El Salvador'),\n",
       " Row(Merchant_State='Senegal'),\n",
       " Row(Merchant_State='Jordan'),\n",
       " Row(Merchant_State='Sudan'),\n",
       " Row(Merchant_State='Niger'),\n",
       " Row(Merchant_State='Azerbaijan'),\n",
       " Row(Merchant_State='Botswana'),\n",
       " Row(Merchant_State='Bulgaria'),\n",
       " Row(Merchant_State='Bahrain'),\n",
       " Row(Merchant_State='Albania'),\n",
       " Row(Merchant_State='Tunisia'),\n",
       " Row(Merchant_State='Mali'),\n",
       " Row(Merchant_State='Marshall Islands'),\n",
       " Row(Merchant_State='Saint Vincent and the Grenadines'),\n",
       " Row(Merchant_State='Montenegro'),\n",
       " Row(Merchant_State='Republic of the Congo'),\n",
       " Row(Merchant_State='Syria'),\n",
       " Row(Merchant_State='Bosnia and Herzegovina'),\n",
       " Row(Merchant_State='Iraq'),\n",
       " Row(Merchant_State='Uganda'),\n",
       " Row(Merchant_State='Guinea'),\n",
       " Row(Merchant_State='Gabon'),\n",
       " Row(Merchant_State='Equatorial Guinea'),\n",
       " Row(Merchant_State='Brunei'),\n",
       " Row(Merchant_State='Saint Lucia'),\n",
       " Row(Merchant_State='Vanuatu'),\n",
       " Row(Merchant_State='Guyana'),\n",
       " Row(Merchant_State='Comoros'),\n",
       " Row(Merchant_State='Malta'),\n",
       " Row(Merchant_State=\"Cote d'Ivoire\"),\n",
       " Row(Merchant_State='Nauru'),\n",
       " Row(Merchant_State='Belize'),\n",
       " Row(Merchant_State='Solomon Islands'),\n",
       " Row(Merchant_State='Trinidad and Tobago'),\n",
       " Row(Merchant_State='Zambia'),\n",
       " Row(Merchant_State='Paraguay'),\n",
       " Row(Merchant_State='Tonga'),\n",
       " Row(Merchant_State='Dominica'),\n",
       " Row(Merchant_State='Angola'),\n",
       " Row(Merchant_State='Democratic Republic of the Congo'),\n",
       " Row(Merchant_State='Qatar'),\n",
       " Row(Merchant_State='Andorra'),\n",
       " Row(Merchant_State='Central African Republic'),\n",
       " Row(Merchant_State='Seychelles'),\n",
       " Row(Merchant_State='Kyrgyzstan'),\n",
       " Row(Merchant_State='Antigua and Barbuda'),\n",
       " Row(Merchant_State='East Timor (Timor-Leste)')]"
      ]
     },
     "execution_count": 150,
     "metadata": {},
     "output_type": "execute_result"
    }
   ],
   "source": [
    "data_zip_na_state_notna.select('Merchant_State').distinct().collect()"
   ]
  },
  {
   "cell_type": "code",
   "execution_count": 151,
   "metadata": {},
   "outputs": [],
   "source": [
    "state_list = data_zip_notna.select('Merchant_State').distinct().collect()"
   ]
  },
  {
   "cell_type": "code",
   "execution_count": 152,
   "metadata": {},
   "outputs": [
    {
     "data": {
      "text/plain": [
       "[Row(Merchant_State='AZ'),\n",
       " Row(Merchant_State='SC'),\n",
       " Row(Merchant_State='LA'),\n",
       " Row(Merchant_State='MN'),\n",
       " Row(Merchant_State='NJ'),\n",
       " Row(Merchant_State='DC'),\n",
       " Row(Merchant_State='OR'),\n",
       " Row(Merchant_State='VA'),\n",
       " Row(Merchant_State='RI'),\n",
       " Row(Merchant_State='KY'),\n",
       " Row(Merchant_State='WY'),\n",
       " Row(Merchant_State='NH'),\n",
       " Row(Merchant_State='MI'),\n",
       " Row(Merchant_State='NV'),\n",
       " Row(Merchant_State='WI'),\n",
       " Row(Merchant_State='ID'),\n",
       " Row(Merchant_State='CA'),\n",
       " Row(Merchant_State='NE'),\n",
       " Row(Merchant_State='CT'),\n",
       " Row(Merchant_State='MT'),\n",
       " Row(Merchant_State='NC'),\n",
       " Row(Merchant_State='VT'),\n",
       " Row(Merchant_State='MD'),\n",
       " Row(Merchant_State='DE'),\n",
       " Row(Merchant_State='MO'),\n",
       " Row(Merchant_State='IL'),\n",
       " Row(Merchant_State='ME'),\n",
       " Row(Merchant_State='WA'),\n",
       " Row(Merchant_State='ND'),\n",
       " Row(Merchant_State='MS'),\n",
       " Row(Merchant_State='AL'),\n",
       " Row(Merchant_State='IN'),\n",
       " Row(Merchant_State='OH'),\n",
       " Row(Merchant_State='TN'),\n",
       " Row(Merchant_State='IA'),\n",
       " Row(Merchant_State='NM'),\n",
       " Row(Merchant_State='PA'),\n",
       " Row(Merchant_State='SD'),\n",
       " Row(Merchant_State='NY'),\n",
       " Row(Merchant_State='TX'),\n",
       " Row(Merchant_State='WV'),\n",
       " Row(Merchant_State='GA'),\n",
       " Row(Merchant_State='MA'),\n",
       " Row(Merchant_State='KS'),\n",
       " Row(Merchant_State='FL'),\n",
       " Row(Merchant_State='CO'),\n",
       " Row(Merchant_State='AK'),\n",
       " Row(Merchant_State='AR'),\n",
       " Row(Merchant_State='OK'),\n",
       " Row(Merchant_State='UT'),\n",
       " Row(Merchant_State='HI'),\n",
       " Row(Merchant_State='AA')]"
      ]
     },
     "execution_count": 152,
     "metadata": {},
     "output_type": "execute_result"
    }
   ],
   "source": [
    "state_list"
   ]
  },
  {
   "cell_type": "markdown",
   "metadata": {},
   "source": [
    "for which we don't find zip code even though we have merchant state : the reason is merchant state doesn't contain \"State\" it contains \"Country\". so create new column Merchant Country and copy Merchant state value in Merchant country for which zip code is not avialable and merchant state is available. and impute \"USA\" as a country for which Zip code is avilable and then drop zip code column."
   ]
  },
  {
   "cell_type": "code",
   "execution_count": 153,
   "metadata": {},
   "outputs": [],
   "source": [
    "df = df.withColumn('Zip', when(col('Zip').isNull(), 0).otherwise(col('Zip')))"
   ]
  },
  {
   "cell_type": "code",
   "execution_count": 154,
   "metadata": {},
   "outputs": [
    {
     "data": {
      "text/plain": [
       "0"
      ]
     },
     "execution_count": 154,
     "metadata": {},
     "output_type": "execute_result"
    }
   ],
   "source": [
    "df.filter(isnan('Zip')).count()"
   ]
  },
  {
   "cell_type": "code",
   "execution_count": 155,
   "metadata": {},
   "outputs": [],
   "source": [
    "df = df.withColumn('Merchant_State', trim(df.Merchant_State))"
   ]
  },
  {
   "cell_type": "code",
   "execution_count": 156,
   "metadata": {},
   "outputs": [],
   "source": [
    "df = df.withColumn('Merchant_City', trim(df.Merchant_City))"
   ]
  },
  {
   "cell_type": "code",
   "execution_count": 157,
   "metadata": {},
   "outputs": [],
   "source": [
    "df = df.withColumn(\"Merchant_Country\",when((col(\"Zip\") == 0) & (col('Merchant_State') != \"\"), col('Merchant_State')).\n",
    "              when((col(\"Zip\") != 0) & (col('Merchant_State') != \"\"), 'USA').\n",
    "              otherwise('ONLINE'))"
   ]
  },
  {
   "cell_type": "code",
   "execution_count": 158,
   "metadata": {},
   "outputs": [],
   "source": [
    "df = df.withColumn('Merchant_State', when(col('Merchant_State').isNull(), 'ONLINE'))"
   ]
  },
  {
   "cell_type": "markdown",
   "metadata": {},
   "source": [
    "### Analyze Error column"
   ]
  },
  {
   "cell_type": "code",
   "execution_count": 159,
   "metadata": {},
   "outputs": [],
   "source": [
    "error_list = df.select('Errors').distinct().collect()"
   ]
  },
  {
   "cell_type": "code",
   "execution_count": 160,
   "metadata": {},
   "outputs": [
    {
     "data": {
      "text/plain": [
       "[Row(Errors='Bad Expiration,Bad CVV,'),\n",
       " Row(Errors='Insufficient Balance,Technical Glitch,'),\n",
       " Row(Errors='Bad CVV,Technical Glitch,'),\n",
       " Row(Errors='Bad CVV,'),\n",
       " Row(Errors=None),\n",
       " Row(Errors='Technical Glitch,'),\n",
       " Row(Errors='Bad Card Number,Bad CVV,'),\n",
       " Row(Errors='Bad CVV,Insufficient Balance,'),\n",
       " Row(Errors='Bad Expiration,Insufficient Balance,'),\n",
       " Row(Errors='Bad Expiration,'),\n",
       " Row(Errors='Bad Card Number,Bad Expiration,Technical Glitch,'),\n",
       " Row(Errors='Bad Card Number,Bad Expiration,'),\n",
       " Row(Errors='Bad PIN,Insufficient Balance,'),\n",
       " Row(Errors='Bad Expiration,Technical Glitch,'),\n",
       " Row(Errors='Bad PIN,Technical Glitch,'),\n",
       " Row(Errors='Bad PIN,'),\n",
       " Row(Errors='Insufficient Balance,'),\n",
       " Row(Errors='Bad Card Number,Insufficient Balance,'),\n",
       " Row(Errors='Bad Card Number,'),\n",
       " Row(Errors='Bad Zipcode,'),\n",
       " Row(Errors='Bad Card Number,Technical Glitch,'),\n",
       " Row(Errors='Bad Zipcode,Insufficient Balance,'),\n",
       " Row(Errors='Bad Zipcode,Technical Glitch,'),\n",
       " Row(Errors='Bad Card Number,Bad Expiration,Insufficient Balance,')]"
      ]
     },
     "execution_count": 160,
     "metadata": {},
     "output_type": "execute_result"
    }
   ],
   "source": [
    "error_list"
   ]
  },
  {
   "cell_type": "code",
   "execution_count": 161,
   "metadata": {},
   "outputs": [
    {
     "data": {
      "text/plain": [
       "23998469"
      ]
     },
     "execution_count": 161,
     "metadata": {},
     "output_type": "execute_result"
    }
   ],
   "source": [
    "df.filter(isnan('Errors') | col('Errors').isNull()).count()"
   ]
  },
  {
   "cell_type": "markdown",
   "metadata": {},
   "source": [
    "Error column contains many missing values and most of them are not directly relavant to the transaction being fraud or not as many error value being null is related to the transaction being legitimate. "
   ]
  },
  {
   "cell_type": "markdown",
   "metadata": {},
   "source": [
    "### Impute missing value of merchant state and merchant country "
   ]
  },
  {
   "cell_type": "code",
   "execution_count": 162,
   "metadata": {},
   "outputs": [],
   "source": [
    "df = df.withColumn('Merchant_State', when(col('Merchant_State').isNull(), 'ONLINE'))\n",
    "df = df.withColumn('Merchant_Country', when(col('Merchant_Country').isNull(), 'ONLINE'))"
   ]
  },
  {
   "cell_type": "code",
   "execution_count": 163,
   "metadata": {},
   "outputs": [],
   "source": [
    "df = df.withColumn('Merchant_State', when(col('Merchant_State') == 'null', 'ONLINE'))\n",
    "df = df.withColumn('Merchant_Country', when(isnan('Merchant_Country'), 'ONLINE'))"
   ]
  },
  {
   "cell_type": "code",
   "execution_count": 172,
   "metadata": {},
   "outputs": [],
   "source": [
    "df = df.na.fill('ONLINE',['Merchant_State','Merchant_Country'])"
   ]
  },
  {
   "cell_type": "code",
   "execution_count": 173,
   "metadata": {},
   "outputs": [
    {
     "data": {
      "text/plain": [
       "[('Year', 'int'),\n",
       " ('Month', 'int'),\n",
       " ('Day', 'int'),\n",
       " ('Amount', 'double'),\n",
       " ('Use_Chip', 'string'),\n",
       " ('Merchant_City', 'string'),\n",
       " ('Merchant_State', 'string'),\n",
       " ('MCC', 'int'),\n",
       " ('IsFraud', 'string'),\n",
       " ('hour', 'int'),\n",
       " ('Merchant_Country', 'string')]"
      ]
     },
     "execution_count": 173,
     "metadata": {},
     "output_type": "execute_result"
    }
   ],
   "source": [
    "df.dtypes"
   ]
  },
  {
   "cell_type": "markdown",
   "metadata": {},
   "source": [
    "Drop Error and zip column \n",
    "user, Card and Merchant Name will not be useful in training ML models. "
   ]
  },
  {
   "cell_type": "code",
   "execution_count": 166,
   "metadata": {},
   "outputs": [],
   "source": [
    "df = df.drop('Errors', 'Zip', 'Transaction_ID', 'User', 'Card', 'Merchant_Name')"
   ]
  },
  {
   "cell_type": "markdown",
   "metadata": {},
   "source": [
    "### Convert categorical data to numeric data "
   ]
  },
  {
   "cell_type": "code",
   "execution_count": 167,
   "metadata": {},
   "outputs": [],
   "source": [
    "from pyspark.ml.feature import StringIndexer"
   ]
  },
  {
   "cell_type": "code",
   "execution_count": 174,
   "metadata": {},
   "outputs": [
    {
     "name": "stdout",
     "output_type": "stream",
     "text": [
      "+----+-----+---+------+------------------+-------------+--------------+----+-------+----+----------------+\n",
      "|Year|Month|Day|Amount|          Use_Chip|Merchant_City|Merchant_State| MCC|IsFraud|hour|Merchant_Country|\n",
      "+----+-----+---+------+------------------+-------------+--------------+----+-------+----+----------------+\n",
      "|2002|    9|  1|134.09| Swipe Transaction|     La Verne|        ONLINE|5300|     No|   6|          ONLINE|\n",
      "|2002|    9|  1| 38.48| Swipe Transaction|Monterey Park|        ONLINE|5411|     No|   6|          ONLINE|\n",
      "|2002|    9|  2|120.34| Swipe Transaction|Monterey Park|        ONLINE|5411|     No|   6|          ONLINE|\n",
      "|2002|    9|  2|128.95| Swipe Transaction|Monterey Park|        ONLINE|5651|     No|  17|          ONLINE|\n",
      "|2002|    9|  3|104.71| Swipe Transaction|     La Verne|        ONLINE|5912|     No|   6|          ONLINE|\n",
      "|2002|    9|  3| 86.19| Swipe Transaction|Monterey Park|        ONLINE|5970|     No|  13|          ONLINE|\n",
      "|2002|    9|  4| 93.84| Swipe Transaction|Monterey Park|        ONLINE|5411|     No|   5|          ONLINE|\n",
      "|2002|    9|  4| 123.5| Swipe Transaction|Monterey Park|        ONLINE|5411|     No|   6|          ONLINE|\n",
      "|2002|    9|  5| 61.72| Swipe Transaction|Monterey Park|        ONLINE|5411|     No|   6|          ONLINE|\n",
      "|2002|    9|  5|  57.1| Swipe Transaction|     La Verne|        ONLINE|7538|     No|   9|          ONLINE|\n",
      "|2002|    9|  5| 76.07| Swipe Transaction|     La Verne|        ONLINE|5814|     No|  20|          ONLINE|\n",
      "|2002|    9|  5| 53.91|Online Transaction|       ONLINE|        ONLINE|4900|     No|  20|          ONLINE|\n",
      "|2002|    9|  6|110.37| Swipe Transaction|    Mira Loma|        ONLINE|5541|     No|   6|          ONLINE|\n",
      "|2002|    9|  7|117.05| Swipe Transaction|Monterey Park|        ONLINE|5411|     No|   6|          ONLINE|\n",
      "|2002|    9|  7|  45.3| Swipe Transaction|Monterey Park|        ONLINE|5942|     No|   6|          ONLINE|\n",
      "|2002|    9|  7| 29.34| Swipe Transaction|     La Verne|        ONLINE|7538|     No|   9|          ONLINE|\n",
      "|2002|    9|  8|147.45| Swipe Transaction|     La Verne|        ONLINE|5912|     No|   6|          ONLINE|\n",
      "|2002|    9|  8| 27.75| Swipe Transaction|     La Verne|        ONLINE|5411|     No|   6|          ONLINE|\n",
      "|2002|    9|  8| 76.57| Swipe Transaction|Monterey Park|        ONLINE|5411|     No|  13|          ONLINE|\n",
      "|2002|    9|  8| 22.56| Swipe Transaction|    Mira Loma|        ONLINE|7832|     No|  22|          ONLINE|\n",
      "+----+-----+---+------+------------------+-------------+--------------+----+-------+----+----------------+\n",
      "only showing top 20 rows\n",
      "\n"
     ]
    }
   ],
   "source": [
    "df.show()"
   ]
  },
  {
   "cell_type": "code",
   "execution_count": 181,
   "metadata": {},
   "outputs": [
    {
     "name": "stdout",
     "output_type": "stream",
     "text": [
      "+--------+-------------+--------------+----------------+-------+\n",
      "|Use_chip|Merchant_city|Merchant_state|Merchant_country|isFraud|\n",
      "+--------+-------------+--------------+----------------+-------+\n",
      "|     0.0|        517.0|           0.0|             0.0|    0.0|\n",
      "|     0.0|        746.0|           0.0|             0.0|    0.0|\n",
      "|     0.0|        746.0|           0.0|             0.0|    0.0|\n",
      "|     0.0|        746.0|           0.0|             0.0|    0.0|\n",
      "|     0.0|        517.0|           0.0|             0.0|    0.0|\n",
      "|     0.0|        746.0|           0.0|             0.0|    0.0|\n",
      "|     0.0|        746.0|           0.0|             0.0|    0.0|\n",
      "|     0.0|        746.0|           0.0|             0.0|    0.0|\n",
      "|     0.0|        746.0|           0.0|             0.0|    0.0|\n",
      "|     0.0|        517.0|           0.0|             0.0|    0.0|\n",
      "|     0.0|        517.0|           0.0|             0.0|    0.0|\n",
      "|     2.0|          0.0|           0.0|             0.0|    0.0|\n",
      "|     0.0|        165.0|           0.0|             0.0|    0.0|\n",
      "|     0.0|        746.0|           0.0|             0.0|    0.0|\n",
      "|     0.0|        746.0|           0.0|             0.0|    0.0|\n",
      "|     0.0|        517.0|           0.0|             0.0|    0.0|\n",
      "|     0.0|        517.0|           0.0|             0.0|    0.0|\n",
      "|     0.0|        517.0|           0.0|             0.0|    0.0|\n",
      "|     0.0|        746.0|           0.0|             0.0|    0.0|\n",
      "|     0.0|        165.0|           0.0|             0.0|    0.0|\n",
      "+--------+-------------+--------------+----------------+-------+\n",
      "only showing top 20 rows\n",
      "\n"
     ]
    }
   ],
   "source": [
    "indexer = StringIndexer(inputCols=[\"Use_Chip\", \"Merchant_City\",\"Merchant_State\",\"Merchant_Country\", \"IsFraud\"], outputCols=\n",
    "                        [\"Use_chip\", \"Merchant_city\",\"Merchant_state\",\"Merchant_country\", \"isFraud\"])\n",
    "df_transform = indexer.fit(df).transform(df)\n",
    "df_transform.select(\"Use_chip\", \"Merchant_city\",\"Merchant_state\",\"Merchant_country\", \"isFraud\").show()"
   ]
  },
  {
   "cell_type": "code",
   "execution_count": 183,
   "metadata": {},
   "outputs": [
    {
     "data": {
      "text/plain": [
       "[Row(isFraud=0.0), Row(isFraud=1.0)]"
      ]
     },
     "execution_count": 183,
     "metadata": {},
     "output_type": "execute_result"
    }
   ],
   "source": [
    "df_transform.select('isFraud').distinct().collect()"
   ]
  },
  {
   "cell_type": "code",
   "execution_count": 184,
   "metadata": {},
   "outputs": [],
   "source": [
    "df_transform = df_transform.withColumn(\"isFraud\", df_transform[\"isFraud\"].cast(IntegerType()))\n",
    "df_transform = df_transform.withColumn(\"Use_chip\", df_transform[\"Use_chip\"].cast(IntegerType()))\n",
    "df_transform = df_transform.withColumn(\"Merchant_city\", df_transform[\"Merchant_city\"].cast(IntegerType()))\n",
    "df_transform = df_transform.withColumn(\"Merchant_state\", df_transform[\"Merchant_state\"].cast(IntegerType()))\n",
    "df_transform = df_transform.withColumn(\"Merchant_country\", df_transform[\"Merchant_country\"].cast(IntegerType()))"
   ]
  },
  {
   "cell_type": "code",
   "execution_count": 185,
   "metadata": {},
   "outputs": [
    {
     "data": {
      "text/plain": [
       "[('Year', 'int'),\n",
       " ('Month', 'int'),\n",
       " ('Day', 'int'),\n",
       " ('Amount', 'double'),\n",
       " ('Use_chip', 'int'),\n",
       " ('Merchant_city', 'int'),\n",
       " ('Merchant_state', 'int'),\n",
       " ('MCC', 'int'),\n",
       " ('isFraud', 'int'),\n",
       " ('hour', 'int'),\n",
       " ('Merchant_country', 'int')]"
      ]
     },
     "execution_count": 185,
     "metadata": {},
     "output_type": "execute_result"
    }
   ],
   "source": [
    "df_transform.dtypes"
   ]
  },
  {
   "cell_type": "markdown",
   "metadata": {},
   "source": [
    "### Split the data in to train, validation and test data and save in the directory "
   ]
  },
  {
   "cell_type": "code",
   "execution_count": 189,
   "metadata": {},
   "outputs": [],
   "source": [
    "train_data,test_data=df_transform.randomSplit([0.75,0.25], 24)"
   ]
  },
  {
   "cell_type": "code",
   "execution_count": 195,
   "metadata": {},
   "outputs": [
    {
     "data": {
      "text/plain": [
       "[Row(isFraud=1), Row(isFraud=0)]"
      ]
     },
     "execution_count": 195,
     "metadata": {},
     "output_type": "execute_result"
    }
   ],
   "source": [
    "train_data.select('isFraud').distinct().collect()"
   ]
  },
  {
   "cell_type": "code",
   "execution_count": 198,
   "metadata": {},
   "outputs": [
    {
     "name": "stdout",
     "output_type": "stream",
     "text": [
      "+-------+--------+\n",
      "|isFraud|   count|\n",
      "+-------+--------+\n",
      "|      1|   22289|\n",
      "|      0|18271549|\n",
      "+-------+--------+\n",
      "\n"
     ]
    }
   ],
   "source": [
    "train_data.groupBy('isFraud').count().show()"
   ]
  },
  {
   "cell_type": "code",
   "execution_count": 190,
   "metadata": {},
   "outputs": [],
   "source": [
    "feature = train_data.columns"
   ]
  },
  {
   "cell_type": "code",
   "execution_count": 192,
   "metadata": {},
   "outputs": [],
   "source": [
    "feature.remove('isFraud')"
   ]
  }
 ],
 "metadata": {
  "kernelspec": {
   "display_name": "Python 3",
   "language": "python",
   "name": "python3"
  },
  "language_info": {
   "codemirror_mode": {
    "name": "ipython",
    "version": 3
   },
   "file_extension": ".py",
   "mimetype": "text/x-python",
   "name": "python",
   "nbconvert_exporter": "python",
   "pygments_lexer": "ipython3",
   "version": "3.8.5"
  }
 },
 "nbformat": 4,
 "nbformat_minor": 4
}
